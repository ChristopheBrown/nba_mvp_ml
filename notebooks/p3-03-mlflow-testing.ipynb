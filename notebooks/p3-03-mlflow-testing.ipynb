{
 "cells": [
  {
   "cell_type": "code",
   "execution_count": 1,
   "id": "a35695f0-f842-4810-bb51-aa79219abb60",
   "metadata": {},
   "outputs": [],
   "source": [
    "# Add the project root directory to sys.path\n",
    "import os\n",
    "import sys\n",
    "project_root = os.path.abspath(os.path.join(os.getcwd(), \"..\"))  # Adjust to your project's structure\n",
    "sys.path.append(project_root)\n",
    "\n",
    "import pickle\n",
    "\n",
    "from src.analysis import *"
   ]
  },
  {
   "cell_type": "code",
   "execution_count": 2,
   "id": "c4401cd1-f127-4ff7-ae3f-aa068a74adc8",
   "metadata": {},
   "outputs": [],
   "source": [
    "# Import necessary libraries\n",
    "import mlflow\n",
    "import mlflow.sklearn\n",
    "from sklearn.model_selection import train_test_split\n",
    "from sklearn.metrics import root_mean_squared_error, accuracy_score\n",
    "\n",
    "# Set up MLflow tracking URI\n",
    "mlflow.set_tracking_uri(\"sqlite:///mlflow.db\")  # Replace with your MLflow server URI\n",
    "mlflow.set_experiment(\"MVP Prediction 00\")  # Name your experiment\n",
    "mlflow.set_tag(\"developer\", \"christophe\")\n",
    "mlflow.sklearn.autolog()\n",
    "# Function to initialize an MLflow run\n",
    "def log_baseline_model(model, X_train, X_test, y_train, y_test):\n",
    "    with mlflow.start_run(nested=True):\n",
    "        # Train the model\n",
    "        model.fit(X_train, y_train)\n",
    "        \n",
    "        # Make predictions\n",
    "        y_pred = model.predict(X_test)\n",
    "        signature = infer_signature(X_test, y_pred)\n",
    "        \n",
    "        # Evaluate the model\n",
    "        rmse = root_mean_squared_error(y_test, y_pred)\n",
    "        accuracy = accuracy_score(y_test, y_pred.round())  # Example for classification\n",
    "        \n",
    "        # Log model, parameters, and metrics\n",
    "        mlflow.log_param(\"model_type\", model.__class__.__name__)\n",
    "        mlflow.log_metric(\"rmse\", rmse)\n",
    "        mlflow.log_metric(\"accuracy\", accuracy)\n",
    "        mlflow.sklearn.log_model(model, \"model\")\n",
    "\n",
    "        model_name = type(model).__name__\n",
    "        # with open(f'/Users/cb/src/nba-ml/gradient-boosted-trees-scoring-basket/models/{model_name}_mlflow.bin', 'wb') as f_out:\n",
    "        #     pickle.dump((model), f_out)\n",
    "\n",
    "        mlflow.sklearn.log_model(\n",
    "            sk_model=model,\n",
    "            artifact_path=\"sklearn-model\",\n",
    "            signature=signature,\n",
    "            registered_model_name=f\"sk-learn-{model_name}\",\n",
    "        )\n",
    "        \n",
    "        print(f\"Logged model: {model.__class__.__name__}, RMSE: {rmse}, Accuracy: {accuracy}\")"
   ]
  },
  {
   "cell_type": "code",
   "execution_count": 3,
   "id": "fd109538-e795-42f0-9d8e-fb390cbf92ec",
   "metadata": {},
   "outputs": [
    {
     "name": "stderr",
     "output_type": "stream",
     "text": [
      "2024/12/02 17:24:22 WARNING mlflow.models.model: Model logged without a signature and input example. Please set `input_example` parameter when logging the model to auto infer the model signature.\n",
      "Registered model 'sk-learn-LinearRegression' already exists. Creating a new version of this model...\n",
      "Created version '3' of model 'sk-learn-LinearRegression'.\n"
     ]
    },
    {
     "name": "stdout",
     "output_type": "stream",
     "text": [
      "Logged model: LinearRegression, RMSE: 0.5167480328007441, Accuracy: 0.7457627118644068\n"
     ]
    },
    {
     "name": "stderr",
     "output_type": "stream",
     "text": [
      "2024/12/02 17:24:30 WARNING mlflow.models.model: Model logged without a signature and input example. Please set `input_example` parameter when logging the model to auto infer the model signature.\n"
     ]
    },
    {
     "name": "stdout",
     "output_type": "stream",
     "text": [
      "Logged model: DecisionTreeRegressor, RMSE: 0.31889640207164033, Accuracy: 0.8983050847457628\n"
     ]
    },
    {
     "name": "stderr",
     "output_type": "stream",
     "text": [
      "Registered model 'sk-learn-DecisionTreeRegressor' already exists. Creating a new version of this model...\n",
      "Created version '3' of model 'sk-learn-DecisionTreeRegressor'.\n"
     ]
    }
   ],
   "source": [
    "from sklearn.linear_model import LinearRegression\n",
    "from sklearn.tree import DecisionTreeRegressor\n",
    "from sklearn.datasets import make_regression\n",
    "import pandas as pd\n",
    "import numpy as np\n",
    "\n",
    "from mlflow.models import infer_signature\n",
    "\n",
    "# Load or create a dataset\n",
    "# X, y = make_regression(n_samples=1000, n_features=10, noise=0.1, random_state=42)  # Replace with your dataset\n",
    "\n",
    "file_path = \"/Users/cb/src/nba_mvp_ml/data/processed/by_season/fully_merged/final_stacked_data.csv\"  # Update with your file path\n",
    "X, y = load_and_preprocess_data(file_path, target_column='mvp')\n",
    "X_train, X_test, y_train, y_test = train_test_split(X, y, test_size=0.2, random_state=42)\n",
    "\n",
    "y_train = y_train.to_numpy().flatten() # Ensure y_train is a 1D array\n",
    "y_test = y_test.to_numpy().flatten() # Ensure y_test is a 1D array\n",
    "\n",
    "# Baseline Model 1: Linear Regression\n",
    "linear_model = LinearRegression()\n",
    "log_baseline_model(linear_model, X_train, X_test, y_train, y_test)\n",
    "\n",
    "# Baseline Model 2: Decision Tree Regressor\n",
    "tree_model = DecisionTreeRegressor(random_state=42)\n",
    "log_baseline_model(tree_model, X_train, X_test, y_train, y_test)"
   ]
  },
  {
   "cell_type": "code",
   "execution_count": 4,
   "id": "d2e84534-f2e0-4509-b24d-f27b20438e2c",
   "metadata": {},
   "outputs": [
    {
     "name": "stdout",
     "output_type": "stream",
     "text": [
      "  3%|▉                           | 1/30 [00:06<03:11,  6.61s/trial, best loss: 0.21666763609066178]"
     ]
    },
    {
     "name": "stderr",
     "output_type": "stream",
     "text": [
      "Successfully registered model 'sk-learn-RandomForestRegressor'.\n",
      "Created version '1' of model 'sk-learn-RandomForestRegressor'.\n"
     ]
    },
    {
     "name": "stdout",
     "output_type": "stream",
     "text": [
      "  7%|█▊                          | 2/30 [00:12<02:52,  6.17s/trial, best loss: 0.21666763609066178]"
     ]
    },
    {
     "name": "stderr",
     "output_type": "stream",
     "text": [
      "Registered model 'sk-learn-RandomForestRegressor' already exists. Creating a new version of this model...\n",
      "Created version '2' of model 'sk-learn-RandomForestRegressor'.\n"
     ]
    },
    {
     "name": "stdout",
     "output_type": "stream",
     "text": [
      " 10%|██▊                         | 3/30 [00:18<02:48,  6.22s/trial, best loss: 0.21422285420041032]"
     ]
    },
    {
     "name": "stderr",
     "output_type": "stream",
     "text": [
      "Registered model 'sk-learn-RandomForestRegressor' already exists. Creating a new version of this model...\n",
      "Created version '3' of model 'sk-learn-RandomForestRegressor'.\n"
     ]
    },
    {
     "name": "stdout",
     "output_type": "stream",
     "text": [
      " 13%|███▋                        | 4/30 [00:25<02:48,  6.49s/trial, best loss: 0.21422285420041032]"
     ]
    },
    {
     "name": "stderr",
     "output_type": "stream",
     "text": [
      "Registered model 'sk-learn-RandomForestRegressor' already exists. Creating a new version of this model...\n",
      "Created version '4' of model 'sk-learn-RandomForestRegressor'.\n"
     ]
    },
    {
     "name": "stdout",
     "output_type": "stream",
     "text": [
      " 17%|████▋                       | 5/30 [00:32<02:41,  6.47s/trial, best loss: 0.21422285420041032]"
     ]
    },
    {
     "name": "stderr",
     "output_type": "stream",
     "text": [
      "Registered model 'sk-learn-RandomForestRegressor' already exists. Creating a new version of this model...\n",
      "Created version '5' of model 'sk-learn-RandomForestRegressor'.\n"
     ]
    },
    {
     "name": "stdout",
     "output_type": "stream",
     "text": [
      " 20%|█████▌                      | 6/30 [00:38<02:31,  6.32s/trial, best loss: 0.21422285420041032]"
     ]
    },
    {
     "name": "stderr",
     "output_type": "stream",
     "text": [
      "Registered model 'sk-learn-RandomForestRegressor' already exists. Creating a new version of this model...\n",
      "Created version '6' of model 'sk-learn-RandomForestRegressor'.\n"
     ]
    },
    {
     "name": "stdout",
     "output_type": "stream",
     "text": [
      " 23%|██████▌                     | 7/30 [00:44<02:25,  6.33s/trial, best loss: 0.21422285420041032]"
     ]
    },
    {
     "name": "stderr",
     "output_type": "stream",
     "text": [
      "Registered model 'sk-learn-RandomForestRegressor' already exists. Creating a new version of this model...\n",
      "Created version '7' of model 'sk-learn-RandomForestRegressor'.\n"
     ]
    },
    {
     "name": "stdout",
     "output_type": "stream",
     "text": [
      " 27%|███████▍                    | 8/30 [00:51<02:22,  6.46s/trial, best loss: 0.21422285420041032]"
     ]
    },
    {
     "name": "stderr",
     "output_type": "stream",
     "text": [
      "Registered model 'sk-learn-RandomForestRegressor' already exists. Creating a new version of this model...\n",
      "Created version '8' of model 'sk-learn-RandomForestRegressor'.\n"
     ]
    },
    {
     "name": "stdout",
     "output_type": "stream",
     "text": [
      " 30%|████████▍                   | 9/30 [00:58<02:18,  6.59s/trial, best loss: 0.21422285420041032]"
     ]
    },
    {
     "name": "stderr",
     "output_type": "stream",
     "text": [
      "Registered model 'sk-learn-RandomForestRegressor' already exists. Creating a new version of this model...\n",
      "Created version '9' of model 'sk-learn-RandomForestRegressor'.\n"
     ]
    },
    {
     "name": "stdout",
     "output_type": "stream",
     "text": [
      " 33%|█████████                  | 10/30 [01:04<02:13,  6.67s/trial, best loss: 0.21422285420041032]"
     ]
    },
    {
     "name": "stderr",
     "output_type": "stream",
     "text": [
      "Registered model 'sk-learn-RandomForestRegressor' already exists. Creating a new version of this model...\n",
      "Created version '10' of model 'sk-learn-RandomForestRegressor'.\n"
     ]
    },
    {
     "name": "stdout",
     "output_type": "stream",
     "text": [
      " 37%|█████████▉                 | 11/30 [01:11<02:03,  6.53s/trial, best loss: 0.21422285420041032]"
     ]
    },
    {
     "name": "stderr",
     "output_type": "stream",
     "text": [
      "Registered model 'sk-learn-RandomForestRegressor' already exists. Creating a new version of this model...\n",
      "Created version '11' of model 'sk-learn-RandomForestRegressor'.\n"
     ]
    },
    {
     "name": "stdout",
     "output_type": "stream",
     "text": [
      " 40%|██████████▊                | 12/30 [01:17<01:56,  6.49s/trial, best loss: 0.21422285420041032]"
     ]
    },
    {
     "name": "stderr",
     "output_type": "stream",
     "text": [
      "Registered model 'sk-learn-RandomForestRegressor' already exists. Creating a new version of this model...\n",
      "Created version '12' of model 'sk-learn-RandomForestRegressor'.\n"
     ]
    },
    {
     "name": "stdout",
     "output_type": "stream",
     "text": [
      " 43%|███████████▋               | 13/30 [01:24<01:51,  6.53s/trial, best loss: 0.21422285420041032]"
     ]
    },
    {
     "name": "stderr",
     "output_type": "stream",
     "text": [
      "Registered model 'sk-learn-RandomForestRegressor' already exists. Creating a new version of this model...\n",
      "Created version '13' of model 'sk-learn-RandomForestRegressor'.\n"
     ]
    },
    {
     "name": "stdout",
     "output_type": "stream",
     "text": [
      " 47%|████████████▌              | 14/30 [01:29<01:40,  6.29s/trial, best loss: 0.21422285420041032]"
     ]
    },
    {
     "name": "stderr",
     "output_type": "stream",
     "text": [
      "Registered model 'sk-learn-RandomForestRegressor' already exists. Creating a new version of this model...\n",
      "Created version '14' of model 'sk-learn-RandomForestRegressor'.\n"
     ]
    },
    {
     "name": "stdout",
     "output_type": "stream",
     "text": [
      " 50%|█████████████▌             | 15/30 [01:36<01:34,  6.28s/trial, best loss: 0.21356049241578562]"
     ]
    },
    {
     "name": "stderr",
     "output_type": "stream",
     "text": [
      "Registered model 'sk-learn-RandomForestRegressor' already exists. Creating a new version of this model...\n",
      "Created version '15' of model 'sk-learn-RandomForestRegressor'.\n"
     ]
    },
    {
     "name": "stdout",
     "output_type": "stream",
     "text": [
      " 53%|██████████████▍            | 16/30 [01:42<01:29,  6.38s/trial, best loss: 0.21356049241578562]"
     ]
    },
    {
     "name": "stderr",
     "output_type": "stream",
     "text": [
      "Registered model 'sk-learn-RandomForestRegressor' already exists. Creating a new version of this model...\n",
      "Created version '16' of model 'sk-learn-RandomForestRegressor'.\n"
     ]
    },
    {
     "name": "stdout",
     "output_type": "stream",
     "text": [
      " 57%|███████████████▎           | 17/30 [01:49<01:22,  6.35s/trial, best loss: 0.21356049241578562]"
     ]
    },
    {
     "name": "stderr",
     "output_type": "stream",
     "text": [
      "Registered model 'sk-learn-RandomForestRegressor' already exists. Creating a new version of this model...\n",
      "Created version '17' of model 'sk-learn-RandomForestRegressor'.\n"
     ]
    },
    {
     "name": "stdout",
     "output_type": "stream",
     "text": [
      " 60%|████████████████▏          | 18/30 [01:54<01:14,  6.23s/trial, best loss: 0.21356049241578562]"
     ]
    },
    {
     "name": "stderr",
     "output_type": "stream",
     "text": [
      "Registered model 'sk-learn-RandomForestRegressor' already exists. Creating a new version of this model...\n",
      "Created version '18' of model 'sk-learn-RandomForestRegressor'.\n"
     ]
    },
    {
     "name": "stdout",
     "output_type": "stream",
     "text": [
      " 63%|█████████████████          | 19/30 [02:01<01:09,  6.32s/trial, best loss: 0.21356049241578562]"
     ]
    },
    {
     "name": "stderr",
     "output_type": "stream",
     "text": [
      "Registered model 'sk-learn-RandomForestRegressor' already exists. Creating a new version of this model...\n",
      "Created version '19' of model 'sk-learn-RandomForestRegressor'.\n"
     ]
    },
    {
     "name": "stdout",
     "output_type": "stream",
     "text": [
      " 67%|██████████████████         | 20/30 [02:07<01:01,  6.15s/trial, best loss: 0.21356049241578562]"
     ]
    },
    {
     "name": "stderr",
     "output_type": "stream",
     "text": [
      "Registered model 'sk-learn-RandomForestRegressor' already exists. Creating a new version of this model...\n",
      "Created version '20' of model 'sk-learn-RandomForestRegressor'.\n"
     ]
    },
    {
     "name": "stdout",
     "output_type": "stream",
     "text": [
      " 70%|██████████████████▉        | 21/30 [02:13<00:55,  6.13s/trial, best loss: 0.21356049241578562]"
     ]
    },
    {
     "name": "stderr",
     "output_type": "stream",
     "text": [
      "Registered model 'sk-learn-RandomForestRegressor' already exists. Creating a new version of this model...\n",
      "Created version '21' of model 'sk-learn-RandomForestRegressor'.\n"
     ]
    },
    {
     "name": "stdout",
     "output_type": "stream",
     "text": [
      " 73%|███████████████████▊       | 22/30 [02:19<00:49,  6.15s/trial, best loss: 0.21356049241578562]"
     ]
    },
    {
     "name": "stderr",
     "output_type": "stream",
     "text": [
      "Registered model 'sk-learn-RandomForestRegressor' already exists. Creating a new version of this model...\n",
      "Created version '22' of model 'sk-learn-RandomForestRegressor'.\n"
     ]
    },
    {
     "name": "stdout",
     "output_type": "stream",
     "text": [
      " 77%|████████████████████▋      | 23/30 [02:25<00:43,  6.21s/trial, best loss: 0.21356049241578562]"
     ]
    },
    {
     "name": "stderr",
     "output_type": "stream",
     "text": [
      "Registered model 'sk-learn-RandomForestRegressor' already exists. Creating a new version of this model...\n",
      "Created version '23' of model 'sk-learn-RandomForestRegressor'.\n"
     ]
    },
    {
     "name": "stdout",
     "output_type": "stream",
     "text": [
      " 80%|█████████████████████▌     | 24/30 [02:32<00:37,  6.18s/trial, best loss: 0.21356049241578562]"
     ]
    },
    {
     "name": "stderr",
     "output_type": "stream",
     "text": [
      "Registered model 'sk-learn-RandomForestRegressor' already exists. Creating a new version of this model...\n",
      "Created version '24' of model 'sk-learn-RandomForestRegressor'.\n"
     ]
    },
    {
     "name": "stdout",
     "output_type": "stream",
     "text": [
      " 83%|██████████████████████▌    | 25/30 [02:38<00:31,  6.27s/trial, best loss: 0.21356049241578562]"
     ]
    },
    {
     "name": "stderr",
     "output_type": "stream",
     "text": [
      "Registered model 'sk-learn-RandomForestRegressor' already exists. Creating a new version of this model...\n",
      "Created version '25' of model 'sk-learn-RandomForestRegressor'.\n"
     ]
    },
    {
     "name": "stdout",
     "output_type": "stream",
     "text": [
      " 87%|███████████████████████▍   | 26/30 [02:44<00:25,  6.28s/trial, best loss: 0.21356049241578562]"
     ]
    },
    {
     "name": "stderr",
     "output_type": "stream",
     "text": [
      "Registered model 'sk-learn-RandomForestRegressor' already exists. Creating a new version of this model...\n",
      "Created version '26' of model 'sk-learn-RandomForestRegressor'.\n"
     ]
    },
    {
     "name": "stdout",
     "output_type": "stream",
     "text": [
      " 90%|████████████████████████▎  | 27/30 [02:50<00:18,  6.20s/trial, best loss: 0.21356049241578562]"
     ]
    },
    {
     "name": "stderr",
     "output_type": "stream",
     "text": [
      "Registered model 'sk-learn-RandomForestRegressor' already exists. Creating a new version of this model...\n",
      "Created version '27' of model 'sk-learn-RandomForestRegressor'.\n"
     ]
    },
    {
     "name": "stdout",
     "output_type": "stream",
     "text": [
      " 93%|█████████████████████████▏ | 28/30 [02:57<00:12,  6.25s/trial, best loss: 0.21356049241578562]"
     ]
    },
    {
     "name": "stderr",
     "output_type": "stream",
     "text": [
      "Registered model 'sk-learn-RandomForestRegressor' already exists. Creating a new version of this model...\n",
      "Created version '28' of model 'sk-learn-RandomForestRegressor'.\n"
     ]
    },
    {
     "name": "stdout",
     "output_type": "stream",
     "text": [
      " 97%|██████████████████████████ | 29/30 [03:03<00:06,  6.30s/trial, best loss: 0.21356049241578562]"
     ]
    },
    {
     "name": "stderr",
     "output_type": "stream",
     "text": [
      "Registered model 'sk-learn-RandomForestRegressor' already exists. Creating a new version of this model...\n",
      "Created version '29' of model 'sk-learn-RandomForestRegressor'.\n"
     ]
    },
    {
     "name": "stdout",
     "output_type": "stream",
     "text": [
      "100%|███████████████████████████| 30/30 [03:10<00:00,  6.34s/trial, best loss: 0.21356049241578562]\n",
      "Best Parameters: {'max_depth': 13.0, 'min_samples_split': 3.0, 'n_estimators': 110.0}\n"
     ]
    },
    {
     "name": "stderr",
     "output_type": "stream",
     "text": [
      "Registered model 'sk-learn-RandomForestRegressor' already exists. Creating a new version of this model...\n",
      "Created version '30' of model 'sk-learn-RandomForestRegressor'.\n"
     ]
    }
   ],
   "source": [
    "from hyperopt import fmin, tpe, hp, STATUS_OK, Trials\n",
    "from sklearn.ensemble import RandomForestRegressor\n",
    "\n",
    "# Define the objective function for Hyperopt\n",
    "def objective(params):\n",
    "    # Ensure parameters are cast to appropriate types\n",
    "    params = {\n",
    "        \"n_estimators\": int(params[\"n_estimators\"]),\n",
    "        \"max_depth\": int(params[\"max_depth\"]),\n",
    "        \"min_samples_split\": int(params[\"min_samples_split\"]),\n",
    "    }\n",
    "    \n",
    "    # Start a new MLflow run for this trial\n",
    "    with mlflow.start_run(nested=True):\n",
    "        # Initialize the model with the current parameters\n",
    "        model = RandomForestRegressor(\n",
    "            n_estimators=params[\"n_estimators\"],\n",
    "            max_depth=params[\"max_depth\"],\n",
    "            min_samples_split=params[\"min_samples_split\"],\n",
    "            random_state=42\n",
    "        )\n",
    "\n",
    "        model_name = type(model).__name__\n",
    "        \n",
    "        # Train and evaluate the model\n",
    "        model.fit(X_train, y_train)\n",
    "        y_pred = model.predict(X_test)\n",
    "        signature = infer_signature(X_test, y_pred)\n",
    "        \n",
    "        rmse = root_mean_squared_error(y_test, y_pred)\n",
    "        \n",
    "        # Log parameters and metrics to MLflow\n",
    "        mlflow.log_param(\"model_type\", model.__class__.__name__)\n",
    "        mlflow.log_params(params)\n",
    "        mlflow.log_metric(\"rmse\", rmse)\n",
    "        mlflow.sklearn.log_model(\n",
    "            sk_model=model,\n",
    "            artifact_path=\"sklearn-model\",\n",
    "            signature=signature,\n",
    "            registered_model_name=f\"sk-learn-{model_name}\",\n",
    "        )\n",
    "        \n",
    "        # Return the objective for Hyperopt\n",
    "        return {\"loss\": rmse, \"status\": STATUS_OK}\n",
    "\n",
    "# Define the hyperparameter search space\n",
    "space = {\n",
    "    \"n_estimators\": hp.quniform(\"n_estimators\", 50, 200, 10),\n",
    "    \"max_depth\": hp.quniform(\"max_depth\", 3, 15, 1),\n",
    "    \"min_samples_split\": hp.quniform(\"min_samples_split\", 2, 10, 1),\n",
    "}\n",
    "\n",
    "# Run the Hyperopt optimization\n",
    "trials = Trials()\n",
    "best_params = fmin(\n",
    "    fn=objective,\n",
    "    space=space,\n",
    "    algo=tpe.suggest,\n",
    "    max_evals=30,\n",
    "    trials=trials\n",
    ")\n",
    "\n",
    "print(\"Best Parameters:\", best_params)"
   ]
  },
  {
   "cell_type": "code",
   "execution_count": 5,
   "id": "3cbcd296-bc65-4095-9d19-e90e06d18983",
   "metadata": {},
   "outputs": [
    {
     "name": "stderr",
     "output_type": "stream",
     "text": [
      "/opt/anaconda3/envs/nba_mvp_ml/lib/python3.12/site-packages/tqdm/auto.py:21: TqdmWarning:\n",
      "\n",
      "IProgress not found. Please update jupyter and ipywidgets. See https://ipywidgets.readthedocs.io/en/stable/user_install.html\n",
      "\n",
      "[I 2024-12-02 17:27:43,555] A new study created in memory with name: no-name-acf25abb-5d74-4a10-8964-5a3671209ab0\n",
      "Successfully registered model 'sk-learn-GradientBoostingRegressor'.\n",
      "Created version '1' of model 'sk-learn-GradientBoostingRegressor'.\n",
      "[I 2024-12-02 17:27:49,694] Trial 0 finished with value: 0.2770955783974073 and parameters: {'n_estimators': 120, 'max_depth': 7, 'learning_rate': 0.2281238036913382}. Best is trial 0 with value: 0.2770955783974073.\n",
      "Registered model 'sk-learn-GradientBoostingRegressor' already exists. Creating a new version of this model...\n",
      "Created version '2' of model 'sk-learn-GradientBoostingRegressor'.\n",
      "[I 2024-12-02 17:27:56,371] Trial 1 finished with value: 0.2813157676686083 and parameters: {'n_estimators': 151, 'max_depth': 14, 'learning_rate': 0.13563574521411031}. Best is trial 0 with value: 0.2770955783974073.\n",
      "Registered model 'sk-learn-GradientBoostingRegressor' already exists. Creating a new version of this model...\n",
      "Created version '3' of model 'sk-learn-GradientBoostingRegressor'.\n",
      "[I 2024-12-02 17:28:02,292] Trial 2 finished with value: 0.2758405330205498 and parameters: {'n_estimators': 52, 'max_depth': 15, 'learning_rate': 0.07106177870390856}. Best is trial 2 with value: 0.2758405330205498.\n",
      "Registered model 'sk-learn-GradientBoostingRegressor' already exists. Creating a new version of this model...\n",
      "Created version '4' of model 'sk-learn-GradientBoostingRegressor'.\n",
      "[I 2024-12-02 17:28:09,548] Trial 3 finished with value: 0.27697512375127836 and parameters: {'n_estimators': 163, 'max_depth': 9, 'learning_rate': 0.045780586059844613}. Best is trial 2 with value: 0.2758405330205498.\n",
      "Registered model 'sk-learn-GradientBoostingRegressor' already exists. Creating a new version of this model...\n",
      "Created version '5' of model 'sk-learn-GradientBoostingRegressor'.\n",
      "[I 2024-12-02 17:28:16,568] Trial 4 finished with value: 0.23733681499245213 and parameters: {'n_estimators': 194, 'max_depth': 3, 'learning_rate': 0.23342115981473108}. Best is trial 4 with value: 0.23733681499245213.\n",
      "Registered model 'sk-learn-GradientBoostingRegressor' already exists. Creating a new version of this model...\n",
      "Created version '6' of model 'sk-learn-GradientBoostingRegressor'.\n",
      "[I 2024-12-02 17:28:22,856] Trial 5 finished with value: 0.2760402604541853 and parameters: {'n_estimators': 182, 'max_depth': 14, 'learning_rate': 0.21813853572563588}. Best is trial 4 with value: 0.23733681499245213.\n",
      "Registered model 'sk-learn-GradientBoostingRegressor' already exists. Creating a new version of this model...\n",
      "Created version '7' of model 'sk-learn-GradientBoostingRegressor'.\n",
      "[I 2024-12-02 17:28:28,994] Trial 6 finished with value: 0.24512778145399128 and parameters: {'n_estimators': 137, 'max_depth': 5, 'learning_rate': 0.247670786863018}. Best is trial 4 with value: 0.23733681499245213.\n",
      "Registered model 'sk-learn-GradientBoostingRegressor' already exists. Creating a new version of this model...\n",
      "Created version '8' of model 'sk-learn-GradientBoostingRegressor'.\n",
      "[I 2024-12-02 17:28:34,996] Trial 7 finished with value: 0.2824792727505237 and parameters: {'n_estimators': 165, 'max_depth': 11, 'learning_rate': 0.271625414789833}. Best is trial 4 with value: 0.23733681499245213.\n",
      "Registered model 'sk-learn-GradientBoostingRegressor' already exists. Creating a new version of this model...\n",
      "Created version '9' of model 'sk-learn-GradientBoostingRegressor'.\n",
      "[I 2024-12-02 17:28:41,007] Trial 8 finished with value: 0.2778814006840536 and parameters: {'n_estimators': 52, 'max_depth': 10, 'learning_rate': 0.18182998344342957}. Best is trial 4 with value: 0.23733681499245213.\n",
      "Registered model 'sk-learn-GradientBoostingRegressor' already exists. Creating a new version of this model...\n",
      "Created version '10' of model 'sk-learn-GradientBoostingRegressor'.\n",
      "[I 2024-12-02 17:28:47,583] Trial 9 finished with value: 0.2831605595209262 and parameters: {'n_estimators': 126, 'max_depth': 9, 'learning_rate': 0.15074228151941937}. Best is trial 4 with value: 0.23733681499245213.\n",
      "Registered model 'sk-learn-GradientBoostingRegressor' already exists. Creating a new version of this model...\n",
      "Created version '11' of model 'sk-learn-GradientBoostingRegressor'.\n",
      "[I 2024-12-02 17:28:54,891] Trial 10 finished with value: 0.26432054439110975 and parameters: {'n_estimators': 199, 'max_depth': 3, 'learning_rate': 0.2964825126780025}. Best is trial 4 with value: 0.23733681499245213.\n",
      "Registered model 'sk-learn-GradientBoostingRegressor' already exists. Creating a new version of this model...\n",
      "Created version '12' of model 'sk-learn-GradientBoostingRegressor'.\n",
      "[I 2024-12-02 17:29:01,381] Trial 11 finished with value: 0.25138728660176973 and parameters: {'n_estimators': 131, 'max_depth': 3, 'learning_rate': 0.24499243169418009}. Best is trial 4 with value: 0.23733681499245213.\n",
      "Registered model 'sk-learn-GradientBoostingRegressor' already exists. Creating a new version of this model...\n",
      "Created version '13' of model 'sk-learn-GradientBoostingRegressor'.\n",
      "[I 2024-12-02 17:29:07,736] Trial 12 finished with value: 0.24909413785779339 and parameters: {'n_estimators': 93, 'max_depth': 5, 'learning_rate': 0.19843408092983822}. Best is trial 4 with value: 0.23733681499245213.\n",
      "Registered model 'sk-learn-GradientBoostingRegressor' already exists. Creating a new version of this model...\n",
      "Created version '14' of model 'sk-learn-GradientBoostingRegressor'.\n",
      "[I 2024-12-02 17:29:14,585] Trial 13 finished with value: 0.2305689205505029 and parameters: {'n_estimators': 91, 'max_depth': 5, 'learning_rate': 0.2709385435970498}. Best is trial 13 with value: 0.2305689205505029.\n",
      "Registered model 'sk-learn-GradientBoostingRegressor' already exists. Creating a new version of this model...\n",
      "Created version '15' of model 'sk-learn-GradientBoostingRegressor'.\n",
      "[I 2024-12-02 17:29:21,348] Trial 14 finished with value: 0.2270712243835275 and parameters: {'n_estimators': 97, 'max_depth': 5, 'learning_rate': 0.2876550428888992}. Best is trial 14 with value: 0.2270712243835275.\n",
      "Registered model 'sk-learn-GradientBoostingRegressor' already exists. Creating a new version of this model...\n",
      "Created version '16' of model 'sk-learn-GradientBoostingRegressor'.\n",
      "[I 2024-12-02 17:29:27,358] Trial 15 finished with value: 0.2812502242057466 and parameters: {'n_estimators': 87, 'max_depth': 7, 'learning_rate': 0.2846653705781277}. Best is trial 14 with value: 0.2270712243835275.\n",
      "Registered model 'sk-learn-GradientBoostingRegressor' already exists. Creating a new version of this model...\n",
      "Created version '17' of model 'sk-learn-GradientBoostingRegressor'.\n",
      "[I 2024-12-02 17:29:33,893] Trial 16 finished with value: 0.2847680522204342 and parameters: {'n_estimators': 95, 'max_depth': 6, 'learning_rate': 0.12559447589785086}. Best is trial 14 with value: 0.2270712243835275.\n",
      "Registered model 'sk-learn-GradientBoostingRegressor' already exists. Creating a new version of this model...\n",
      "Created version '18' of model 'sk-learn-GradientBoostingRegressor'.\n",
      "[I 2024-12-02 17:29:40,480] Trial 17 finished with value: 0.2317214798710799 and parameters: {'n_estimators': 74, 'max_depth': 5, 'learning_rate': 0.26874024032305727}. Best is trial 14 with value: 0.2270712243835275.\n",
      "Registered model 'sk-learn-GradientBoostingRegressor' already exists. Creating a new version of this model...\n",
      "Created version '19' of model 'sk-learn-GradientBoostingRegressor'.\n",
      "[I 2024-12-02 17:29:47,238] Trial 18 finished with value: 0.2760463970073816 and parameters: {'n_estimators': 109, 'max_depth': 7, 'learning_rate': 0.10591376326342997}. Best is trial 14 with value: 0.2270712243835275.\n",
      "Registered model 'sk-learn-GradientBoostingRegressor' already exists. Creating a new version of this model...\n",
      "Created version '20' of model 'sk-learn-GradientBoostingRegressor'.\n",
      "[I 2024-12-02 17:29:53,223] Trial 19 finished with value: 0.2812833819540737 and parameters: {'n_estimators': 74, 'max_depth': 12, 'learning_rate': 0.2936323552728303}. Best is trial 14 with value: 0.2270712243835275.\n",
      "Registered model 'sk-learn-GradientBoostingRegressor' already exists. Creating a new version of this model...\n",
      "Created version '21' of model 'sk-learn-GradientBoostingRegressor'.\n",
      "[I 2024-12-02 17:29:59,729] Trial 20 finished with value: 0.2768534272778971 and parameters: {'n_estimators': 107, 'max_depth': 8, 'learning_rate': 0.1709036786359883}. Best is trial 14 with value: 0.2270712243835275.\n",
      "Registered model 'sk-learn-GradientBoostingRegressor' already exists. Creating a new version of this model...\n",
      "Created version '22' of model 'sk-learn-GradientBoostingRegressor'.\n",
      "[I 2024-12-02 17:30:06,237] Trial 21 finished with value: 0.23490276569055427 and parameters: {'n_estimators': 74, 'max_depth': 5, 'learning_rate': 0.2701777028854825}. Best is trial 14 with value: 0.2270712243835275.\n",
      "Registered model 'sk-learn-GradientBoostingRegressor' already exists. Creating a new version of this model...\n",
      "Created version '23' of model 'sk-learn-GradientBoostingRegressor'.\n",
      "[I 2024-12-02 17:30:12,456] Trial 22 finished with value: 0.25091134027532586 and parameters: {'n_estimators': 74, 'max_depth': 4, 'learning_rate': 0.2638679340153325}. Best is trial 14 with value: 0.2270712243835275.\n",
      "Registered model 'sk-learn-GradientBoostingRegressor' already exists. Creating a new version of this model...\n",
      "Created version '24' of model 'sk-learn-GradientBoostingRegressor'.\n",
      "[I 2024-12-02 17:30:18,691] Trial 23 finished with value: 0.2755356585137553 and parameters: {'n_estimators': 84, 'max_depth': 6, 'learning_rate': 0.20701863758291902}. Best is trial 14 with value: 0.2270712243835275.\n",
      "Registered model 'sk-learn-GradientBoostingRegressor' already exists. Creating a new version of this model...\n",
      "Created version '25' of model 'sk-learn-GradientBoostingRegressor'.\n",
      "[I 2024-12-02 17:30:24,825] Trial 24 finished with value: 0.25232970514347913 and parameters: {'n_estimators': 65, 'max_depth': 4, 'learning_rate': 0.24991204585671034}. Best is trial 14 with value: 0.2270712243835275.\n",
      "Registered model 'sk-learn-GradientBoostingRegressor' already exists. Creating a new version of this model...\n",
      "Created version '26' of model 'sk-learn-GradientBoostingRegressor'.\n",
      "[I 2024-12-02 17:30:31,447] Trial 25 finished with value: 0.2631152877155521 and parameters: {'n_estimators': 105, 'max_depth': 6, 'learning_rate': 0.017443503764034113}. Best is trial 14 with value: 0.2270712243835275.\n",
      "Registered model 'sk-learn-GradientBoostingRegressor' already exists. Creating a new version of this model...\n",
      "Created version '27' of model 'sk-learn-GradientBoostingRegressor'.\n",
      "[I 2024-12-02 17:30:38,146] Trial 26 finished with value: 0.2606362974425295 and parameters: {'n_estimators': 114, 'max_depth': 4, 'learning_rate': 0.2982607784280715}. Best is trial 14 with value: 0.2270712243835275.\n",
      "Registered model 'sk-learn-GradientBoostingRegressor' already exists. Creating a new version of this model...\n",
      "Created version '28' of model 'sk-learn-GradientBoostingRegressor'.\n",
      "[I 2024-12-02 17:30:44,184] Trial 27 finished with value: 0.27833567706124257 and parameters: {'n_estimators': 62, 'max_depth': 8, 'learning_rate': 0.2688221993094086}. Best is trial 14 with value: 0.2270712243835275.\n",
      "Registered model 'sk-learn-GradientBoostingRegressor' already exists. Creating a new version of this model...\n",
      "Created version '29' of model 'sk-learn-GradientBoostingRegressor'.\n",
      "[I 2024-12-02 17:30:50,531] Trial 28 finished with value: 0.24015698505133626 and parameters: {'n_estimators': 98, 'max_depth': 5, 'learning_rate': 0.18785817680806252}. Best is trial 14 with value: 0.2270712243835275.\n",
      "Registered model 'sk-learn-GradientBoostingRegressor' already exists. Creating a new version of this model...\n",
      "Created version '30' of model 'sk-learn-GradientBoostingRegressor'.\n",
      "[I 2024-12-02 17:30:56,719] Trial 29 finished with value: 0.27994523238548286 and parameters: {'n_estimators': 82, 'max_depth': 8, 'learning_rate': 0.2264200525744455}. Best is trial 14 with value: 0.2270712243835275.\n"
     ]
    },
    {
     "name": "stdout",
     "output_type": "stream",
     "text": [
      "Best Parameters: {'n_estimators': 97, 'max_depth': 5, 'learning_rate': 0.2876550428888992}\n"
     ]
    }
   ],
   "source": [
    "import optuna\n",
    "from sklearn.ensemble import GradientBoostingRegressor\n",
    "\n",
    "# Define objective function for Optuna\n",
    "def optuna_objective(trial):\n",
    "    with mlflow.start_run(nested=True):\n",
    "        # Suggest hyperparameters\n",
    "        n_estimators = trial.suggest_int(\"n_estimators\", 50, 200)\n",
    "        max_depth = trial.suggest_int(\"max_depth\", 3, 15)\n",
    "        learning_rate = trial.suggest_float(\"learning_rate\", 0.01, 0.3)\n",
    "        \n",
    "        # Initialize model\n",
    "        model = GradientBoostingRegressor(\n",
    "            n_estimators=n_estimators,\n",
    "            max_depth=max_depth,\n",
    "            learning_rate=learning_rate,\n",
    "            random_state=42\n",
    "        )\n",
    "\n",
    "        model_name = type(model).__name__\n",
    "        \n",
    "        # Train model\n",
    "        model.fit(X_train, y_train)\n",
    "        y_pred = model.predict(X_test)\n",
    "        signature = infer_signature(X_test, y_pred)\n",
    "        \n",
    "        # Evaluate model\n",
    "        rmse = root_mean_squared_error(y_test, y_pred)\n",
    "        \n",
    "        # Log to MLflow\n",
    "        mlflow.log_param(\"n_estimators\", n_estimators)\n",
    "        mlflow.log_param(\"model_type\", model.__class__.__name__)\n",
    "        mlflow.log_param(\"max_depth\", max_depth)\n",
    "        mlflow.log_param(\"learning_rate\", learning_rate)\n",
    "        mlflow.log_metric(\"rmse\", rmse)\n",
    "        mlflow.sklearn.log_model(\n",
    "            sk_model=model,\n",
    "            artifact_path=\"sklearn-model\",\n",
    "            signature=signature,\n",
    "            registered_model_name=f\"sk-learn-{model_name}\",\n",
    "        )        \n",
    "        return rmse\n",
    "\n",
    "# Create and optimize the study\n",
    "study = optuna.create_study(direction=\"minimize\")\n",
    "study.optimize(optuna_objective, n_trials=30)\n",
    "\n",
    "print(\"Best Parameters:\", study.best_params)"
   ]
  },
  {
   "cell_type": "code",
   "execution_count": null,
   "id": "e7a7c98a-d1fc-45c9-8fac-7a0d9b9d3bad",
   "metadata": {},
   "outputs": [],
   "source": []
  },
  {
   "cell_type": "code",
   "execution_count": 6,
   "id": "489c7d99-f88b-47ed-8019-3fd62f2893b1",
   "metadata": {},
   "outputs": [],
   "source": [
    "# Best Parameters: {'max_depth': 3.0, 'min_samples_split': 5.0, 'n_estimators': 140.0}\n",
    "\n",
    "# Best Parameters: {'n_estimators': 73, 'max_depth': 3, 'learning_rate': 0.15121675856543731}"
   ]
  },
  {
   "cell_type": "code",
   "execution_count": null,
   "id": "e0c6d656-2572-4d67-bf7d-3d2dad780f83",
   "metadata": {},
   "outputs": [],
   "source": []
  }
 ],
 "metadata": {
  "kernelspec": {
   "display_name": "Python 3 (ipykernel)",
   "language": "python",
   "name": "python3"
  },
  "language_info": {
   "codemirror_mode": {
    "name": "ipython",
    "version": 3
   },
   "file_extension": ".py",
   "mimetype": "text/x-python",
   "name": "python",
   "nbconvert_exporter": "python",
   "pygments_lexer": "ipython3",
   "version": "3.12.7"
  }
 },
 "nbformat": 4,
 "nbformat_minor": 5
}
