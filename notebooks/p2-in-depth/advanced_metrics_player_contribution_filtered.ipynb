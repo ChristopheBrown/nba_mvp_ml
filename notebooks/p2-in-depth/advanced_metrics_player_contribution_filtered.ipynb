{
 "cells": [
  {
   "cell_type": "code",
   "execution_count": 1,
   "id": "03d0e6c0-731b-4f0f-9157-33881efc9372",
   "metadata": {},
   "outputs": [],
   "source": [
    "import sys\n",
    "import os\n",
    "\n",
    "# Add the project root directory to sys.path\n",
    "project_root = os.path.abspath(os.path.join(os.getcwd(), \"../..\"))  # Adjust to your project's structure\n",
    "sys.path.append(project_root)\n",
    "\n",
    "from src.analysis import *"
   ]
  },
  {
   "cell_type": "code",
   "execution_count": 2,
   "id": "33e90621-9515-442f-b17c-6cee350080a5",
   "metadata": {},
   "outputs": [],
   "source": [
    "dims = {\n",
    "        'PLAYER_FULLNAME': 'Player',\n",
    "        'eFG%_player': 'Eff. FG%',\n",
    "        'TS%_player' : 'True Shooting%',\n",
    "        'PER': 'PER',\n",
    "        'WS': 'Win Shares',\n",
    "        'BPM': '+/-',\n",
    "        'BLK': 'Blocks',\n",
    "        'TRB': 'Rebounds',\n",
    "        # 'WS/48': 'WS per 48 minutes (WS/48)',\n",
    "        'PTS_opp_pg': 'Opp. PPG',\n",
    "        'W/L%': 'Win-Loss %',\n",
    "        'MOV': 'MOV',\n",
    "        'Pace': 'Team Pace',\n",
    "        'Pts_Won': 'MVP Points Won'\n",
    "    }"
   ]
  },
  {
   "cell_type": "code",
   "execution_count": 16,
   "id": "5efe3ac3-43b5-43b0-a862-2dadd2c1aa05",
   "metadata": {},
   "outputs": [
    {
     "name": "stdout",
     "output_type": "stream",
     "text": [
      "1 NIKOLA JOKIĆ\n",
      "2 SHAI GILGEOUS-ALEXANDER\n",
      "3 LUKA DONČIĆ\n",
      "4 GIANNIS ANTETOKOUNMPO\n",
      "5 JALEN BRUNSON\n"
     ]
    },
    {
     "data": {
      "text/html": [
       "<iframe\n",
       "    scrolling=\"no\"\n",
       "    width=\"100%\"\n",
       "    height=\"545px\"\n",
       "    src=\"iframe_figures/figure_16.html\"\n",
       "    frameborder=\"0\"\n",
       "    allowfullscreen\n",
       "></iframe>\n"
      ]
     },
     "metadata": {},
     "output_type": "display_data"
    }
   ],
   "source": [
    "player_df, team_df, mvp_df = load_year(2023)\n",
    "for number, player in enumerate(list(mvp_df.head()['Player'])):\n",
    "    print(number+1, player)\n",
    "advanced_metrics_player_contribution_filtered(player_df, team_df, mvp_df.head(), dims=dims, include_non_mvp=False)\n"
   ]
  },
  {
   "cell_type": "code",
   "execution_count": 14,
   "id": "71247c99-c37c-42a1-82cb-db7dfd0c69e2",
   "metadata": {},
   "outputs": [
    {
     "name": "stdout",
     "output_type": "stream",
     "text": [
      "1 JOEL EMBIID\n",
      "2 NIKOLA JOKIĆ\n",
      "3 GIANNIS ANTETOKOUNMPO\n",
      "4 JAYSON TATUM\n",
      "5 SHAI GILGEOUS-ALEXANDER\n"
     ]
    },
    {
     "data": {
      "text/html": [
       "<iframe\n",
       "    scrolling=\"no\"\n",
       "    width=\"100%\"\n",
       "    height=\"545px\"\n",
       "    src=\"iframe_figures/figure_14.html\"\n",
       "    frameborder=\"0\"\n",
       "    allowfullscreen\n",
       "></iframe>\n"
      ]
     },
     "metadata": {},
     "output_type": "display_data"
    }
   ],
   "source": [
    "player_df, team_df, mvp_df = load_year(2022)\n",
    "for number, player in enumerate(list(mvp_df.head()['Player'])):\n",
    "    print(number+1, player)\n",
    "advanced_metrics_player_contribution_filtered(player_df, team_df, mvp_df.head(), dims=dims, include_non_mvp=False)\n"
   ]
  },
  {
   "cell_type": "code",
   "execution_count": 5,
   "id": "2563e456-ad44-44c9-8d31-3ec2fe6e56eb",
   "metadata": {},
   "outputs": [
    {
     "name": "stdout",
     "output_type": "stream",
     "text": [
      "1 NIKOLA JOKIĆ\n",
      "2 JOEL EMBIID\n",
      "3 GIANNIS ANTETOKOUNMPO\n",
      "4 DEVIN BOOKER\n",
      "5 LUKA DONČIĆ\n"
     ]
    },
    {
     "data": {
      "text/html": [
       "<iframe\n",
       "    scrolling=\"no\"\n",
       "    width=\"100%\"\n",
       "    height=\"545px\"\n",
       "    src=\"iframe_figures/figure_5.html\"\n",
       "    frameborder=\"0\"\n",
       "    allowfullscreen\n",
       "></iframe>\n"
      ]
     },
     "metadata": {},
     "output_type": "display_data"
    }
   ],
   "source": [
    "player_df, team_df, mvp_df = load_year(2021)\n",
    "for number, player in enumerate(list(mvp_df.head()['Player'])):\n",
    "    print(number+1, player)\n",
    "advanced_metrics_player_contribution_filtered(player_df, team_df, mvp_df.head(), dims=dims, include_non_mvp=False)\n"
   ]
  },
  {
   "cell_type": "code",
   "execution_count": 6,
   "id": "df702ece-0b2c-40b8-a5ad-92437f336917",
   "metadata": {},
   "outputs": [
    {
     "name": "stdout",
     "output_type": "stream",
     "text": [
      "1 NIKOLA JOKIĆ\n",
      "2 JOEL EMBIID\n",
      "3 STEPHEN CURRY\n",
      "4 GIANNIS ANTETOKOUNMPO\n",
      "5 CHRIS PAUL\n"
     ]
    },
    {
     "data": {
      "text/html": [
       "<iframe\n",
       "    scrolling=\"no\"\n",
       "    width=\"100%\"\n",
       "    height=\"545px\"\n",
       "    src=\"iframe_figures/figure_6.html\"\n",
       "    frameborder=\"0\"\n",
       "    allowfullscreen\n",
       "></iframe>\n"
      ]
     },
     "metadata": {},
     "output_type": "display_data"
    }
   ],
   "source": [
    "player_df, team_df, mvp_df = load_year(2020)\n",
    "for number, player in enumerate(list(mvp_df.head()['Player'])):\n",
    "    print(number+1, player)\n",
    "advanced_metrics_player_contribution_filtered(player_df, team_df, mvp_df.head(), dims=dims, include_non_mvp=False)\n"
   ]
  },
  {
   "cell_type": "code",
   "execution_count": 7,
   "id": "c973b7db-0cdb-47da-9b3b-f31b71f620fb",
   "metadata": {},
   "outputs": [
    {
     "name": "stdout",
     "output_type": "stream",
     "text": [
      "1 GIANNIS ANTETOKOUNMPO\n",
      "2 LEBRON JAMES\n",
      "3 JAMES HARDEN\n",
      "4 LUKA DONČIĆ\n",
      "5 KAWHI LEONARD\n"
     ]
    },
    {
     "data": {
      "text/html": [
       "<iframe\n",
       "    scrolling=\"no\"\n",
       "    width=\"100%\"\n",
       "    height=\"545px\"\n",
       "    src=\"iframe_figures/figure_7.html\"\n",
       "    frameborder=\"0\"\n",
       "    allowfullscreen\n",
       "></iframe>\n"
      ]
     },
     "metadata": {},
     "output_type": "display_data"
    }
   ],
   "source": [
    "player_df, team_df, mvp_df = load_year(2019)\n",
    "for number, player in enumerate(list(mvp_df.head()['Player'])):\n",
    "    print(number+1, player)\n",
    "advanced_metrics_player_contribution_filtered(player_df, team_df, mvp_df.head(), dims=dims, include_non_mvp=False)\n"
   ]
  },
  {
   "cell_type": "code",
   "execution_count": 8,
   "id": "c8ce4878-197a-4900-9e97-edbf6c314f07",
   "metadata": {},
   "outputs": [
    {
     "name": "stdout",
     "output_type": "stream",
     "text": [
      "1 GIANNIS ANTETOKOUNMPO\n",
      "2 JAMES HARDEN\n",
      "3 PAUL GEORGE\n",
      "4 NIKOLA JOKIĆ\n",
      "5 STEPHEN CURRY\n"
     ]
    },
    {
     "data": {
      "text/html": [
       "<iframe\n",
       "    scrolling=\"no\"\n",
       "    width=\"100%\"\n",
       "    height=\"545px\"\n",
       "    src=\"iframe_figures/figure_8.html\"\n",
       "    frameborder=\"0\"\n",
       "    allowfullscreen\n",
       "></iframe>\n"
      ]
     },
     "metadata": {},
     "output_type": "display_data"
    }
   ],
   "source": [
    "player_df, team_df, mvp_df = load_year(2018)\n",
    "for number, player in enumerate(list(mvp_df.head()['Player'])):\n",
    "    print(number+1, player)\n",
    "advanced_metrics_player_contribution_filtered(player_df, team_df, mvp_df.head(), dims=dims, include_non_mvp=False)\n"
   ]
  },
  {
   "cell_type": "code",
   "execution_count": 9,
   "id": "99cafa4e-2c74-4d2a-9058-eb90d1c268f0",
   "metadata": {},
   "outputs": [
    {
     "name": "stdout",
     "output_type": "stream",
     "text": [
      "1 JAMES HARDEN\n",
      "2 LEBRON JAMES\n",
      "3 ANTHONY DAVIS\n",
      "4 DAMIAN LILLARD\n",
      "5 RUSSELL WESTBROOK\n"
     ]
    },
    {
     "data": {
      "text/html": [
       "<iframe\n",
       "    scrolling=\"no\"\n",
       "    width=\"100%\"\n",
       "    height=\"545px\"\n",
       "    src=\"iframe_figures/figure_9.html\"\n",
       "    frameborder=\"0\"\n",
       "    allowfullscreen\n",
       "></iframe>\n"
      ]
     },
     "metadata": {},
     "output_type": "display_data"
    }
   ],
   "source": [
    "player_df, team_df, mvp_df = load_year(2017)\n",
    "for number, player in enumerate(list(mvp_df.head()['Player'])):\n",
    "    print(number+1, player)\n",
    "advanced_metrics_player_contribution_filtered(player_df, team_df, mvp_df.head(), dims=dims, include_non_mvp=False)\n"
   ]
  },
  {
   "cell_type": "code",
   "execution_count": 10,
   "id": "8b620b55-91e6-434f-a35f-8b1273b5803d",
   "metadata": {},
   "outputs": [
    {
     "name": "stdout",
     "output_type": "stream",
     "text": [
      "1 RUSSELL WESTBROOK\n",
      "2 JAMES HARDEN\n",
      "3 KAWHI LEONARD\n",
      "4 LEBRON JAMES\n",
      "5 ISAIAH THOMAS\n"
     ]
    },
    {
     "data": {
      "text/html": [
       "<iframe\n",
       "    scrolling=\"no\"\n",
       "    width=\"100%\"\n",
       "    height=\"545px\"\n",
       "    src=\"iframe_figures/figure_10.html\"\n",
       "    frameborder=\"0\"\n",
       "    allowfullscreen\n",
       "></iframe>\n"
      ]
     },
     "metadata": {},
     "output_type": "display_data"
    }
   ],
   "source": [
    "player_df, team_df, mvp_df = load_year(2016)\n",
    "for number, player in enumerate(list(mvp_df.head()['Player'])):\n",
    "    print(number+1, player)\n",
    "advanced_metrics_player_contribution_filtered(player_df, team_df, mvp_df.head(), dims=dims, include_non_mvp=False)\n"
   ]
  },
  {
   "cell_type": "code",
   "execution_count": 15,
   "id": "243b096b-98c6-4122-ae10-11eb885164b8",
   "metadata": {},
   "outputs": [
    {
     "name": "stdout",
     "output_type": "stream",
     "text": [
      "1 STEPHEN CURRY\n",
      "2 KAWHI LEONARD\n",
      "3 LEBRON JAMES\n",
      "4 RUSSELL WESTBROOK\n",
      "5 KEVIN DURANT\n"
     ]
    },
    {
     "data": {
      "text/html": [
       "<iframe\n",
       "    scrolling=\"no\"\n",
       "    width=\"100%\"\n",
       "    height=\"545px\"\n",
       "    src=\"iframe_figures/figure_15.html\"\n",
       "    frameborder=\"0\"\n",
       "    allowfullscreen\n",
       "></iframe>\n"
      ]
     },
     "metadata": {},
     "output_type": "display_data"
    }
   ],
   "source": [
    "player_df, team_df, mvp_df = load_year(2015)\n",
    "for number, player in enumerate(list(mvp_df.head()['Player'])):\n",
    "    print(number+1, player)\n",
    "advanced_metrics_player_contribution_filtered(player_df, team_df, mvp_df.head(), dims=dims, include_non_mvp=False)\n"
   ]
  },
  {
   "cell_type": "code",
   "execution_count": 12,
   "id": "ac698a3d-23f4-4aa9-b51e-421b12255312",
   "metadata": {},
   "outputs": [
    {
     "name": "stdout",
     "output_type": "stream",
     "text": [
      "1 STEPHEN CURRY\n",
      "2 JAMES HARDEN\n",
      "3 LEBRON JAMES\n",
      "4 RUSSELL WESTBROOK\n",
      "5 ANTHONY DAVIS\n"
     ]
    },
    {
     "data": {
      "text/html": [
       "<iframe\n",
       "    scrolling=\"no\"\n",
       "    width=\"100%\"\n",
       "    height=\"545px\"\n",
       "    src=\"iframe_figures/figure_12.html\"\n",
       "    frameborder=\"0\"\n",
       "    allowfullscreen\n",
       "></iframe>\n"
      ]
     },
     "metadata": {},
     "output_type": "display_data"
    }
   ],
   "source": [
    "player_df, team_df, mvp_df = load_year(2014)\n",
    "for number, player in enumerate(list(mvp_df.head()['Player'])):\n",
    "    print(number+1, player)\n",
    "advanced_metrics_player_contribution_filtered(player_df, team_df, mvp_df.head(), dims=dims, include_non_mvp=False)\n"
   ]
  },
  {
   "cell_type": "code",
   "execution_count": null,
   "id": "f79bdfaa-8e5a-407a-9c39-38fe2fa4cd74",
   "metadata": {},
   "outputs": [],
   "source": []
  },
  {
   "cell_type": "code",
   "execution_count": null,
   "id": "356ce990-d0bf-49ad-9b70-1787cc2f260a",
   "metadata": {},
   "outputs": [],
   "source": []
  },
  {
   "cell_type": "code",
   "execution_count": null,
   "id": "3a8ba302-c70f-4671-84c4-18a2ee31f8de",
   "metadata": {},
   "outputs": [],
   "source": []
  }
 ],
 "metadata": {
  "kernelspec": {
   "display_name": "Python 3 (ipykernel)",
   "language": "python",
   "name": "python3"
  },
  "language_info": {
   "codemirror_mode": {
    "name": "ipython",
    "version": 3
   },
   "file_extension": ".py",
   "mimetype": "text/x-python",
   "name": "python",
   "nbconvert_exporter": "python",
   "pygments_lexer": "ipython3",
   "version": "3.12.7"
  }
 },
 "nbformat": 4,
 "nbformat_minor": 5
}
