{
 "cells": [
  {
   "cell_type": "code",
   "execution_count": 1,
   "id": "fbc1f325-d430-47b3-bb6a-d61277aec3bc",
   "metadata": {},
   "outputs": [],
   "source": [
    "# !pip install plotly jupyterlab"
   ]
  },
  {
   "cell_type": "code",
   "execution_count": 5,
   "id": "d391548b-02ab-4c9b-a4c9-7e9a01067b65",
   "metadata": {},
   "outputs": [],
   "source": [
    "import pandas as pd\n",
    "\n",
    "import plotly.express as px\n",
    "import plotly.io as pio\n",
    "# pio.renderers.default = 'notebook'\n",
    "pio.renderers.default = 'iframe'"
   ]
  },
  {
   "cell_type": "code",
   "execution_count": 21,
   "id": "65a8764f-bade-4129-bfb2-0c8d2704bacc",
   "metadata": {},
   "outputs": [],
   "source": [
    "year = 2022\n",
    "\n",
    "player_stats = pd.read_csv(f'/Users/cb/src/nba_mvp_ml/data/processed/by_season/stats_{year}.csv')\n",
    "team_stats = pd.read_csv(f'/Users/cb/src/nba_mvp_ml/data/processed/by_season/team_stats_{year}.csv')\n",
    "\n",
    "# Add '_team' suffix to all columns except identifying columns\n",
    "team_stats = team_stats.rename(\n",
    "    columns={col: f\"{col}_team\" for col in team_stats.columns if col not in ['SEASON_ID', 'LEAGUE_ID', 'TEAM_ID', 'TEAM_ABBREVIATION']}\n",
    ")\n",
    "\n",
    "\n",
    "# Match team stats using TEAM_ID without merging\n",
    "player_team_stats = player_stats.copy()\n",
    "player_team_stats['PTS_PG_team'] = player_team_stats['TEAM_ID'].map(team_stats.set_index('TEAM_ID')['PTS_PG_team'])\n",
    "player_team_stats['TS%_team'] = player_team_stats['TEAM_ID'].map(team_stats.set_index('TEAM_ID')['TS%_team'])"
   ]
  },
  {
   "cell_type": "code",
   "execution_count": 22,
   "id": "b954e6dc-c5a0-41bb-a6ff-5d8f4809da61",
   "metadata": {},
   "outputs": [
    {
     "data": {
      "text/html": [
       "<iframe\n",
       "    scrolling=\"no\"\n",
       "    width=\"100%\"\n",
       "    height=\"545px\"\n",
       "    src=\"iframe_figures/figure_22.html\"\n",
       "    frameborder=\"0\"\n",
       "    allowfullscreen\n",
       "></iframe>\n"
      ]
     },
     "metadata": {},
     "output_type": "display_data"
    }
   ],
   "source": [
    "# Add team stats to player stats without merging conflicts\n",
    "player_team_stats['PTS_PG_team'] = player_team_stats['TEAM_ID'].map(team_stats.set_index('TEAM_ID')['PTS_PG_team'])\n",
    "player_team_stats['TS%_team'] = player_team_stats['TEAM_ID'].map(team_stats.set_index('TEAM_ID')['TS%_team'])\n",
    "\n",
    "# Interactive scatterplot\n",
    "fig = px.scatter(\n",
    "    player_team_stats,\n",
    "    x='PTS_PG', \n",
    "    y='TS%_team',\n",
    "    color='TEAM_ABBREVIATION',\n",
    "    hover_data=['PLAYER_FULLNAME', 'PTS_PG', 'TS%_team', 'TEAM_ABBREVIATION'],\n",
    "    title='Player Scoring vs Team Efficiency'\n",
    ")\n",
    "fig.update_layout(xaxis_title='Player Points Per Game (PTS_PG)', yaxis_title='Team True Shooting Percentage (TS%_team)')\n",
    "fig.show()"
   ]
  },
  {
   "cell_type": "code",
   "execution_count": 14,
   "id": "ebc65b57-8081-471b-957f-4112fdebf847",
   "metadata": {},
   "outputs": [],
   "source": [
    "# # Add Win Percentage to player stats\n",
    "# player_team_stats['Win_Pct_team'] = player_team_stats['TEAM_ID'].map(team_stats_2023.set_index('TEAM_ID')['Win_Pct_team'])\n",
    "\n",
    "# # Top 10 players by Win Shares\n",
    "# top_ws_players = player_team_stats.nlargest(10, 'WS')\n",
    "\n",
    "# # Interactive barplot\n",
    "# fig = px.bar(\n",
    "#     top_ws_players,\n",
    "#     x='WS',\n",
    "#     y='PLAYER_FULLNAME',\n",
    "#     color='Win_Pct_team',\n",
    "#     orientation='h',\n",
    "#     hover_data=['PLAYER_FULLNAME', 'TEAM_ABBREVIATION', 'Win_Pct_team', 'WS'],\n",
    "#     title='Top Players by Win Shares and Team Success'\n",
    "# )\n",
    "# fig.update_layout(xaxis_title='Win Shares (WS)', yaxis_title='Player')\n",
    "# fig.show()"
   ]
  },
  {
   "cell_type": "code",
   "execution_count": 23,
   "id": "8cf0412e-7153-4767-ae3d-81be766e5ebb",
   "metadata": {},
   "outputs": [
    {
     "data": {
      "text/html": [
       "<iframe\n",
       "    scrolling=\"no\"\n",
       "    width=\"100%\"\n",
       "    height=\"545px\"\n",
       "    src=\"iframe_figures/figure_23.html\"\n",
       "    frameborder=\"0\"\n",
       "    allowfullscreen\n",
       "></iframe>\n"
      ]
     },
     "metadata": {},
     "output_type": "display_data"
    }
   ],
   "source": [
    "# Interactive scatterplot\n",
    "fig = px.scatter(\n",
    "    player_stats,\n",
    "    x='TS%', \n",
    "    y='PTS_PG',\n",
    "    color='TEAM_ABBREVIATION',\n",
    "    hover_data=['PLAYER_FULLNAME', 'PTS_PG', 'TS%', 'TEAM_ABBREVIATION'],\n",
    "    title='Scoring Efficiency vs Scoring Volume'\n",
    ")\n",
    "fig.update_layout(xaxis_title='True Shooting Percentage (TS%)', yaxis_title='Points Per Game (PTS_PG)')\n",
    "fig.show()"
   ]
  },
  {
   "cell_type": "code",
   "execution_count": 16,
   "id": "89c3003b-25ce-4f6c-a599-9e5fe137be28",
   "metadata": {},
   "outputs": [
    {
     "data": {
      "text/html": [
       "<iframe\n",
       "    scrolling=\"no\"\n",
       "    width=\"100%\"\n",
       "    height=\"545px\"\n",
       "    src=\"iframe_figures/figure_16.html\"\n",
       "    frameborder=\"0\"\n",
       "    allowfullscreen\n",
       "></iframe>\n"
      ]
     },
     "metadata": {},
     "output_type": "display_data"
    }
   ],
   "source": [
    "# Interactive scatterplot for team pace vs offensive efficiency\n",
    "fig = px.scatter(\n",
    "    team_stats,\n",
    "    x='Pace_team',\n",
    "    y='PTS_PG_team',\n",
    "    color='TEAM_ABBREVIATION',\n",
    "    hover_data=['TEAM_ABBREVIATION', 'Pace_team', 'PTS_PG_team'],\n",
    "    title='Team Pace vs Offensive Efficiency'\n",
    ")\n",
    "fig.update_layout(xaxis_title='Pace (Team)', yaxis_title='Points Per Game (PTS_PG_team)')\n",
    "fig.show()"
   ]
  },
  {
   "cell_type": "code",
   "execution_count": 20,
   "id": "b7e73b83-395f-4005-8c97-d1280a20382a",
   "metadata": {},
   "outputs": [
    {
     "data": {
      "text/html": [
       "<iframe\n",
       "    scrolling=\"no\"\n",
       "    width=\"100%\"\n",
       "    height=\"545px\"\n",
       "    src=\"iframe_figures/figure_20.html\"\n",
       "    frameborder=\"0\"\n",
       "    allowfullscreen\n",
       "></iframe>\n"
      ]
     },
     "metadata": {},
     "output_type": "display_data"
    }
   ],
   "source": [
    "# Assuming MVP data is tagged in player stats\n",
    "player_stats['MVP_Candidate'] = player_stats['PLAYER_FULLNAME'].apply(\n",
    "    lambda x: 1 if x in ['Nikola Jokić'.upper(), \n",
    "                         'Giannis Antetokounmpo'.upper(),\n",
    "                        'Shai Gilgeous-Alexander'.upper(),\n",
    "                        'Luka Dončić'.upper()] else 0  # Example MVPs\n",
    ")\n",
    "\n",
    "# Interactive scatterplot for PER vs WS\n",
    "fig = px.scatter(\n",
    "    player_stats,\n",
    "    x='PER',\n",
    "    y='WS',\n",
    "    color='MVP_Candidate',\n",
    "    hover_data=['PLAYER_FULLNAME', 'PER', 'WS', 'TEAM_ABBREVIATION'],\n",
    "    title='PER vs WS: MVP Candidates vs Others'\n",
    ")\n",
    "fig.update_layout(xaxis_title='Player Efficiency Rating (PER)', yaxis_title='Win Shares (WS)')\n",
    "fig.show()"
   ]
  },
  {
   "cell_type": "code",
   "execution_count": null,
   "id": "dc32a74d-def1-4f70-9b10-ec370ae96efc",
   "metadata": {},
   "outputs": [],
   "source": []
  },
  {
   "cell_type": "code",
   "execution_count": null,
   "id": "bd0bdb98-bdf7-4d10-bdb4-2e4eeef33e74",
   "metadata": {},
   "outputs": [],
   "source": []
  },
  {
   "cell_type": "code",
   "execution_count": null,
   "id": "6aa42365-4a50-414d-b405-87de417eccb3",
   "metadata": {},
   "outputs": [],
   "source": []
  }
 ],
 "metadata": {
  "kernelspec": {
   "display_name": "Python 3 (ipykernel)",
   "language": "python",
   "name": "python3"
  },
  "language_info": {
   "codemirror_mode": {
    "name": "ipython",
    "version": 3
   },
   "file_extension": ".py",
   "mimetype": "text/x-python",
   "name": "python",
   "nbconvert_exporter": "python",
   "pygments_lexer": "ipython3",
   "version": "3.12.7"
  }
 },
 "nbformat": 4,
 "nbformat_minor": 5
}
