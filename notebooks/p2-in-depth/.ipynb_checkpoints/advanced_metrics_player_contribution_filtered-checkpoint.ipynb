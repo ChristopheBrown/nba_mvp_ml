{
 "cells": [
  {
   "cell_type": "code",
   "execution_count": 1,
   "id": "03d0e6c0-731b-4f0f-9157-33881efc9372",
   "metadata": {},
   "outputs": [],
   "source": [
    "import sys\n",
    "import os\n",
    "\n",
    "# Add the project root directory to sys.path\n",
    "project_root = os.path.abspath(os.path.join(os.getcwd(), \"../..\"))  # Adjust to your project's structure\n",
    "sys.path.append(project_root)\n",
    "\n",
    "from src.analysis import *"
   ]
  },
  {
   "cell_type": "code",
   "execution_count": 2,
   "id": "33e90621-9515-442f-b17c-6cee350080a5",
   "metadata": {},
   "outputs": [],
   "source": [
    "dims = {\n",
    "        'PLAYER_FULLNAME': 'Player',\n",
    "        'eFG%_player': 'Eff. FG%',\n",
    "        'TS%_player' : 'True Shooting%',\n",
    "        'BLK': 'Blocks',\n",
    "        'TRB': 'Rebounds',\n",
    "        'PTS_opp_pg': 'Opp. PPG',\n",
    "        'PER': 'PER',\n",
    "        'WS': 'Win Shares',\n",
    "        # 'WS/48': 'WS per 48 minutes (WS/48)',\n",
    "        'W/L%': 'Win-Loss %',\n",
    "        'Pace': 'Team Pace',\n",
    "        'MOV': 'MOV',\n",
    "        'Pts_Won': 'MVP Points Won'\n",
    "    }"
   ]
  },
  {
   "cell_type": "code",
   "execution_count": 13,
   "id": "5efe3ac3-43b5-43b0-a862-2dadd2c1aa05",
   "metadata": {},
   "outputs": [
    {
     "data": {
      "text/html": [
       "<iframe\n",
       "    scrolling=\"no\"\n",
       "    width=\"100%\"\n",
       "    height=\"545px\"\n",
       "    src=\"iframe_figures/figure_13.html\"\n",
       "    frameborder=\"0\"\n",
       "    allowfullscreen\n",
       "></iframe>\n"
      ]
     },
     "metadata": {},
     "output_type": "display_data"
    },
    {
     "name": "stdout",
     "output_type": "stream",
     "text": [
      "1 NIKOLA JOKIĆ\n",
      "2 SHAI GILGEOUS-ALEXANDER\n",
      "3 LUKA DONČIĆ\n",
      "4 GIANNIS ANTETOKOUNMPO\n",
      "5 JALEN BRUNSON\n"
     ]
    },
    {
     "ename": "NameError",
     "evalue": "name 'fig' is not defined",
     "output_type": "error",
     "traceback": [
      "\u001b[0;31m---------------------------------------------------------------------------\u001b[0m",
      "\u001b[0;31mNameError\u001b[0m                                 Traceback (most recent call last)",
      "Cell \u001b[0;32mIn[13], line 6\u001b[0m\n\u001b[1;32m      3\u001b[0m \u001b[38;5;28;01mfor\u001b[39;00m number, player \u001b[38;5;129;01min\u001b[39;00m \u001b[38;5;28menumerate\u001b[39m(\u001b[38;5;28mlist\u001b[39m(mvp_df\u001b[38;5;241m.\u001b[39mhead()[\u001b[38;5;124m'\u001b[39m\u001b[38;5;124mPlayer\u001b[39m\u001b[38;5;124m'\u001b[39m])):\n\u001b[1;32m      4\u001b[0m     \u001b[38;5;28mprint\u001b[39m(number\u001b[38;5;241m+\u001b[39m\u001b[38;5;241m1\u001b[39m, player)\n\u001b[0;32m----> 6\u001b[0m \u001b[43mfig\u001b[49m\n",
      "\u001b[0;31mNameError\u001b[0m: name 'fig' is not defined"
     ]
    }
   ],
   "source": [
    "player_df, team_df, mvp_df = load_year(2023)\n",
    "advanced_metrics_player_contribution_filtered(player_df, team_df, mvp_df.head(), dims=dims, include_non_mvp=False)\n",
    "for number, player in enumerate(list(mvp_df.head()['Player'])):\n",
    "    print(number+1, player)"
   ]
  },
  {
   "cell_type": "code",
   "execution_count": 4,
   "id": "71247c99-c37c-42a1-82cb-db7dfd0c69e2",
   "metadata": {},
   "outputs": [
    {
     "data": {
      "text/html": [
       "<iframe\n",
       "    scrolling=\"no\"\n",
       "    width=\"100%\"\n",
       "    height=\"545px\"\n",
       "    src=\"iframe_figures/figure_4.html\"\n",
       "    frameborder=\"0\"\n",
       "    allowfullscreen\n",
       "></iframe>\n"
      ]
     },
     "metadata": {},
     "output_type": "display_data"
    },
    {
     "name": "stdout",
     "output_type": "stream",
     "text": [
      "1 JOEL EMBIID\n",
      "2 NIKOLA JOKIĆ\n",
      "3 GIANNIS ANTETOKOUNMPO\n",
      "4 JAYSON TATUM\n",
      "5 SHAI GILGEOUS-ALEXANDER\n"
     ]
    }
   ],
   "source": [
    "player_df, team_df, mvp_df = load_year(2022)\n",
    "advanced_metrics_player_contribution_filtered(player_df, team_df, mvp_df.head(), dims=dims, include_non_mvp=False)\n",
    "for number, player in enumerate(list(mvp_df.head()['Player'])):\n",
    "    print(number+1, player)"
   ]
  },
  {
   "cell_type": "code",
   "execution_count": 5,
   "id": "2563e456-ad44-44c9-8d31-3ec2fe6e56eb",
   "metadata": {},
   "outputs": [
    {
     "data": {
      "text/html": [
       "<iframe\n",
       "    scrolling=\"no\"\n",
       "    width=\"100%\"\n",
       "    height=\"545px\"\n",
       "    src=\"iframe_figures/figure_5.html\"\n",
       "    frameborder=\"0\"\n",
       "    allowfullscreen\n",
       "></iframe>\n"
      ]
     },
     "metadata": {},
     "output_type": "display_data"
    },
    {
     "name": "stdout",
     "output_type": "stream",
     "text": [
      "1 NIKOLA JOKIĆ\n",
      "2 JOEL EMBIID\n",
      "3 GIANNIS ANTETOKOUNMPO\n",
      "4 DEVIN BOOKER\n",
      "5 LUKA DONČIĆ\n"
     ]
    }
   ],
   "source": [
    "player_df, team_df, mvp_df = load_year(2021)\n",
    "advanced_metrics_player_contribution_filtered(player_df, team_df, mvp_df.head(), dims=dims, include_non_mvp=False)\n",
    "for number, player in enumerate(list(mvp_df.head()['Player'])):\n",
    "    print(number+1, player)"
   ]
  },
  {
   "cell_type": "code",
   "execution_count": 6,
   "id": "df702ece-0b2c-40b8-a5ad-92437f336917",
   "metadata": {},
   "outputs": [
    {
     "data": {
      "text/html": [
       "<iframe\n",
       "    scrolling=\"no\"\n",
       "    width=\"100%\"\n",
       "    height=\"545px\"\n",
       "    src=\"iframe_figures/figure_6.html\"\n",
       "    frameborder=\"0\"\n",
       "    allowfullscreen\n",
       "></iframe>\n"
      ]
     },
     "metadata": {},
     "output_type": "display_data"
    },
    {
     "name": "stdout",
     "output_type": "stream",
     "text": [
      "1 NIKOLA JOKIĆ\n",
      "2 JOEL EMBIID\n",
      "3 STEPHEN CURRY\n",
      "4 GIANNIS ANTETOKOUNMPO\n",
      "5 CHRIS PAUL\n"
     ]
    }
   ],
   "source": [
    "player_df, team_df, mvp_df = load_year(2020)\n",
    "advanced_metrics_player_contribution_filtered(player_df, team_df, mvp_df.head(), dims=dims, include_non_mvp=False)\n",
    "for number, player in enumerate(list(mvp_df.head()['Player'])):\n",
    "    print(number+1, player)"
   ]
  },
  {
   "cell_type": "code",
   "execution_count": 7,
   "id": "c973b7db-0cdb-47da-9b3b-f31b71f620fb",
   "metadata": {},
   "outputs": [
    {
     "data": {
      "text/html": [
       "<iframe\n",
       "    scrolling=\"no\"\n",
       "    width=\"100%\"\n",
       "    height=\"545px\"\n",
       "    src=\"iframe_figures/figure_7.html\"\n",
       "    frameborder=\"0\"\n",
       "    allowfullscreen\n",
       "></iframe>\n"
      ]
     },
     "metadata": {},
     "output_type": "display_data"
    },
    {
     "name": "stdout",
     "output_type": "stream",
     "text": [
      "1 GIANNIS ANTETOKOUNMPO\n",
      "2 LEBRON JAMES\n",
      "3 JAMES HARDEN\n",
      "4 LUKA DONČIĆ\n",
      "5 KAWHI LEONARD\n"
     ]
    }
   ],
   "source": [
    "player_df, team_df, mvp_df = load_year(2019)\n",
    "advanced_metrics_player_contribution_filtered(player_df, team_df, mvp_df.head(), dims=dims, include_non_mvp=False)\n",
    "for number, player in enumerate(list(mvp_df.head()['Player'])):\n",
    "    print(number+1, player)"
   ]
  },
  {
   "cell_type": "code",
   "execution_count": 8,
   "id": "c8ce4878-197a-4900-9e97-edbf6c314f07",
   "metadata": {},
   "outputs": [
    {
     "data": {
      "text/html": [
       "<iframe\n",
       "    scrolling=\"no\"\n",
       "    width=\"100%\"\n",
       "    height=\"545px\"\n",
       "    src=\"iframe_figures/figure_8.html\"\n",
       "    frameborder=\"0\"\n",
       "    allowfullscreen\n",
       "></iframe>\n"
      ]
     },
     "metadata": {},
     "output_type": "display_data"
    },
    {
     "name": "stdout",
     "output_type": "stream",
     "text": [
      "1 GIANNIS ANTETOKOUNMPO\n",
      "2 JAMES HARDEN\n",
      "3 PAUL GEORGE\n",
      "4 NIKOLA JOKIĆ\n",
      "5 STEPHEN CURRY\n"
     ]
    }
   ],
   "source": [
    "player_df, team_df, mvp_df = load_year(2018)\n",
    "advanced_metrics_player_contribution_filtered(player_df, team_df, mvp_df.head(), dims=dims, include_non_mvp=False)\n",
    "for number, player in enumerate(list(mvp_df.head()['Player'])):\n",
    "    print(number+1, player)"
   ]
  },
  {
   "cell_type": "code",
   "execution_count": 9,
   "id": "99cafa4e-2c74-4d2a-9058-eb90d1c268f0",
   "metadata": {},
   "outputs": [
    {
     "data": {
      "text/html": [
       "<iframe\n",
       "    scrolling=\"no\"\n",
       "    width=\"100%\"\n",
       "    height=\"545px\"\n",
       "    src=\"iframe_figures/figure_9.html\"\n",
       "    frameborder=\"0\"\n",
       "    allowfullscreen\n",
       "></iframe>\n"
      ]
     },
     "metadata": {},
     "output_type": "display_data"
    },
    {
     "name": "stdout",
     "output_type": "stream",
     "text": [
      "1 JAMES HARDEN\n",
      "2 LEBRON JAMES\n",
      "3 ANTHONY DAVIS\n",
      "4 DAMIAN LILLARD\n",
      "5 RUSSELL WESTBROOK\n"
     ]
    }
   ],
   "source": [
    "player_df, team_df, mvp_df = load_year(2017)\n",
    "advanced_metrics_player_contribution_filtered(player_df, team_df, mvp_df.head(), dims=dims, include_non_mvp=False)\n",
    "for number, player in enumerate(list(mvp_df.head()['Player'])):\n",
    "    print(number+1, player)"
   ]
  },
  {
   "cell_type": "code",
   "execution_count": 10,
   "id": "8b620b55-91e6-434f-a35f-8b1273b5803d",
   "metadata": {},
   "outputs": [
    {
     "data": {
      "text/html": [
       "<iframe\n",
       "    scrolling=\"no\"\n",
       "    width=\"100%\"\n",
       "    height=\"545px\"\n",
       "    src=\"iframe_figures/figure_10.html\"\n",
       "    frameborder=\"0\"\n",
       "    allowfullscreen\n",
       "></iframe>\n"
      ]
     },
     "metadata": {},
     "output_type": "display_data"
    },
    {
     "name": "stdout",
     "output_type": "stream",
     "text": [
      "1 RUSSELL WESTBROOK\n",
      "2 JAMES HARDEN\n",
      "3 KAWHI LEONARD\n",
      "4 LEBRON JAMES\n",
      "5 ISAIAH THOMAS\n"
     ]
    }
   ],
   "source": [
    "player_df, team_df, mvp_df = load_year(2016)\n",
    "advanced_metrics_player_contribution_filtered(player_df, team_df, mvp_df.head(), dims=dims, include_non_mvp=False)\n",
    "for number, player in enumerate(list(mvp_df.head()['Player'])):\n",
    "    print(number+1, player)"
   ]
  },
  {
   "cell_type": "code",
   "execution_count": 11,
   "id": "243b096b-98c6-4122-ae10-11eb885164b8",
   "metadata": {},
   "outputs": [
    {
     "data": {
      "text/html": [
       "<iframe\n",
       "    scrolling=\"no\"\n",
       "    width=\"100%\"\n",
       "    height=\"545px\"\n",
       "    src=\"iframe_figures/figure_11.html\"\n",
       "    frameborder=\"0\"\n",
       "    allowfullscreen\n",
       "></iframe>\n"
      ]
     },
     "metadata": {},
     "output_type": "display_data"
    },
    {
     "name": "stdout",
     "output_type": "stream",
     "text": [
      "1 STEPHEN CURRY\n",
      "2 KAWHI LEONARD\n",
      "3 LEBRON JAMES\n",
      "4 RUSSELL WESTBROOK\n",
      "5 KEVIN DURANT\n"
     ]
    }
   ],
   "source": [
    "player_df, team_df, mvp_df = load_year(2015)\n",
    "advanced_metrics_player_contribution_filtered(player_df, team_df, mvp_df.head(), dims=dims, include_non_mvp=False)\n",
    "for number, player in enumerate(list(mvp_df.head()['Player'])):\n",
    "    print(number+1, player)"
   ]
  },
  {
   "cell_type": "code",
   "execution_count": 12,
   "id": "ac698a3d-23f4-4aa9-b51e-421b12255312",
   "metadata": {},
   "outputs": [
    {
     "data": {
      "text/html": [
       "<iframe\n",
       "    scrolling=\"no\"\n",
       "    width=\"100%\"\n",
       "    height=\"545px\"\n",
       "    src=\"iframe_figures/figure_12.html\"\n",
       "    frameborder=\"0\"\n",
       "    allowfullscreen\n",
       "></iframe>\n"
      ]
     },
     "metadata": {},
     "output_type": "display_data"
    },
    {
     "name": "stdout",
     "output_type": "stream",
     "text": [
      "1 STEPHEN CURRY\n",
      "2 JAMES HARDEN\n",
      "3 LEBRON JAMES\n",
      "4 RUSSELL WESTBROOK\n",
      "5 ANTHONY DAVIS\n"
     ]
    }
   ],
   "source": [
    "player_df, team_df, mvp_df = load_year(2014)\n",
    "advanced_metrics_player_contribution_filtered(player_df, team_df, mvp_df.head(), dims=dims, include_non_mvp=False)\n",
    "for number, player in enumerate(list(mvp_df.head()['Player'])):\n",
    "    print(number+1, player)"
   ]
  },
  {
   "cell_type": "code",
   "execution_count": null,
   "id": "f79bdfaa-8e5a-407a-9c39-38fe2fa4cd74",
   "metadata": {},
   "outputs": [],
   "source": []
  }
 ],
 "metadata": {
  "kernelspec": {
   "display_name": "Python 3 (ipykernel)",
   "language": "python",
   "name": "python3"
  },
  "language_info": {
   "codemirror_mode": {
    "name": "ipython",
    "version": 3
   },
   "file_extension": ".py",
   "mimetype": "text/x-python",
   "name": "python",
   "nbconvert_exporter": "python",
   "pygments_lexer": "ipython3",
   "version": "3.12.7"
  }
 },
 "nbformat": 4,
 "nbformat_minor": 5
}
