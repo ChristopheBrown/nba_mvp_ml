{
 "cells": [
  {
   "cell_type": "code",
   "execution_count": 1,
   "id": "b84c33cc-64c2-4e7c-9dd6-87bb832fda00",
   "metadata": {},
   "outputs": [],
   "source": [
    "import sys\n",
    "import os\n",
    "\n",
    "# Add the project root directory to sys.path\n",
    "project_root = os.path.abspath(os.path.join(os.getcwd(), \"..\"))  # Adjust to your project's structure\n",
    "sys.path.append(project_root)\n",
    "\n",
    "from src.analysis import *"
   ]
  },
  {
   "cell_type": "code",
   "execution_count": 19,
   "id": "cd9bc76e-3757-439b-96e9-78cefcb83088",
   "metadata": {},
   "outputs": [
    {
     "name": "stdout",
     "output_type": "stream",
     "text": [
      "MVP List: ['NIKOLA JOKIĆ', 'SHAI GILGEOUS-ALEXANDER', 'LUKA DONČIĆ', 'GIANNIS ANTETOKOUNMPO', 'JALEN BRUNSON', 'JAYSON TATUM', 'ANTHONY EDWARDS', 'DOMANTAS SABONIS', 'KEVIN DURANT']\n",
      "Player dataframe columns:\n",
      "['Unnamed: 0', 'PLAYER_ID', 'PLAYER_FULLNAME', 'SEASON_ID', 'LEAGUE_ID', 'TEAM_ID', 'TEAM_ABBREVIATION', 'PLAYER_AGE', 'GP', 'GS', 'MIN', 'FGM', 'FGA', 'FG_PCT', 'FG3M', 'FG3A', 'FG3_PCT', 'FTM', 'FTA', 'FT_PCT', 'OREB', 'DREB', 'REB', 'AST', 'STL', 'BLK', 'TOV', 'PF', 'PTS', 'MIN_PG', 'FGM_PG', 'FGA_PG', 'FG_PCT_PG', 'FG3M_PG', 'FG3A_PG', 'FG3_PCT_PG', 'FTM_PG', 'FTA_PG', 'FT_PCT_PG', 'OREB_PG', 'DREB_PG', 'REB_PG', 'AST_PG', 'STL_PG', 'BLK_PG', 'TOV_PG', 'PF_PG', 'PTS_PG', 'TS%', 'eFG%', 'PER', 'WS']\n",
      "\n",
      "Team dataframe columns:\n",
      "['Rk_trad', 'Team', 'G', 'MP', 'FG', 'FGA', 'FG%', '3P', '3PA', '3P%', '2P', '2PA', '2P%', 'FT', 'FTA', 'FT%', 'ORB', 'DRB', 'TRB', 'AST', 'STL', 'BLK', 'TOV', 'PF', 'PTS', 'SEASON_ID', 'Rk_opp', 'G_opp', 'MP_opp', 'FG_opp', 'FGA_opp', 'FG%_opp', '3P_opp', '3PA_opp', '3P%_opp', '2P_opp', '2PA_opp', '2P%_opp', 'FT_opp', 'FTA_opp', 'FT%_opp', 'ORB_opp', 'DRB_opp', 'TRB_opp', 'AST_opp', 'STL_opp', 'BLK_opp', 'TOV_opp', 'PF_opp', 'PTS_opp', 'Rk_pg', 'G_pg', 'MP_pg', 'FG_pg', 'FGA_pg', 'FG%_pg', '3P_pg', '3PA_pg', '3P%_pg', '2P_pg', '2PA_pg', '2P%_pg', 'FT_pg', 'FTA_pg', 'FT%_pg', 'ORB_pg', 'DRB_pg', 'TRB_pg', 'AST_pg', 'STL_pg', 'BLK_pg', 'TOV_pg', 'PF_pg', 'PTS_pg', 'Rk_opp_pg', 'G_opp_pg', 'MP_opp_pg', 'FG_opp_pg', 'FGA_opp_pg', 'FG%_opp_pg', '3P_opp_pg', '3PA_opp_pg', '3P%_opp_pg', '2P_opp_pg', '2PA_opp_pg', '2P%_opp_pg', 'FT_opp_pg', 'FTA_opp_pg', 'FT%_opp_pg', 'ORB_opp_pg', 'DRB_opp_pg', 'TRB_opp_pg', 'AST_opp_pg', 'STL_opp_pg', 'BLK_opp_pg', 'TOV_opp_pg', 'PF_opp_pg', 'PTS_opp_pg', 'Rk_adv', 'Age', 'W', 'L', 'PW', 'PL', 'MOV', 'SOS', 'SRS', 'ORtg', 'DRtg', 'NRtg', 'Pace', 'FTr', '3PAr', 'TS%', 'eFG%', 'TOV%', 'ORB%', 'FT/FGA', 'eFG%.1', 'TOV%.1', 'DRB%', 'FT/FGA.1', 'Arena', 'Attend.', 'Attend./G', 'W_wl', 'L_wl', 'W/L%', 'GB', 'PS/G', 'PA/G', 'SRS_wl', 'TEAM_ABBREVIATION', 'TEAM_ID']\n",
      "\n",
      "MVP dataframe columns:\n",
      "['Rank', 'Player', 'Age', 'Tm', 'First', 'Pts Won', 'Pts Max', 'Share', 'G', 'MP', 'PTS', 'TRB', 'AST', 'STL', 'BLK', 'FG%', '3P%', 'FT%', 'WS', 'WS/48']\n",
      "\n"
     ]
    },
    {
     "data": {
      "text/plain": [
       "['NIKOLA JOKIĆ',\n",
       " 'SHAI GILGEOUS-ALEXANDER',\n",
       " 'LUKA DONČIĆ',\n",
       " 'GIANNIS ANTETOKOUNMPO',\n",
       " 'JALEN BRUNSON',\n",
       " 'JAYSON TATUM',\n",
       " 'ANTHONY EDWARDS',\n",
       " 'DOMANTAS SABONIS',\n",
       " 'KEVIN DURANT']"
      ]
     },
     "execution_count": 19,
     "metadata": {},
     "output_type": "execute_result"
    }
   ],
   "source": [
    "player_df, team_df, mvp_df = load_year(2023,debug=True)\n",
    "\n",
    "list(mvp_df['Player'])"
   ]
  },
  {
   "cell_type": "code",
   "execution_count": 18,
   "id": "63a0535b-13bb-42f8-98cd-838bf8d172d2",
   "metadata": {},
   "outputs": [
    {
     "data": {
      "text/html": [
       "<iframe\n",
       "    scrolling=\"no\"\n",
       "    width=\"100%\"\n",
       "    height=\"545px\"\n",
       "    src=\"iframe_figures/figure_18.html\"\n",
       "    frameborder=\"0\"\n",
       "    allowfullscreen\n",
       "></iframe>\n"
      ]
     },
     "metadata": {},
     "output_type": "display_data"
    }
   ],
   "source": [
    "x = per_ws_vs_mvp_points(player_df, team_df, mvp_df)"
   ]
  },
  {
   "cell_type": "code",
   "execution_count": 4,
   "id": "dc32a74d-def1-4f70-9b10-ec370ae96efc",
   "metadata": {},
   "outputs": [
    {
     "data": {
      "text/html": [
       "<iframe\n",
       "    scrolling=\"no\"\n",
       "    width=\"100%\"\n",
       "    height=\"545px\"\n",
       "    src=\"iframe_figures/figure_4.html\"\n",
       "    frameborder=\"0\"\n",
       "    allowfullscreen\n",
       "></iframe>\n"
      ]
     },
     "metadata": {},
     "output_type": "display_data"
    },
    {
     "data": {
      "text/html": [
       "<iframe\n",
       "    scrolling=\"no\"\n",
       "    width=\"100%\"\n",
       "    height=\"545px\"\n",
       "    src=\"iframe_figures/figure_4.html\"\n",
       "    frameborder=\"0\"\n",
       "    allowfullscreen\n",
       "></iframe>\n"
      ]
     },
     "metadata": {},
     "output_type": "display_data"
    }
   ],
   "source": [
    "per_vs_team_success(player_df, team_df, mvp_df)"
   ]
  },
  {
   "cell_type": "code",
   "execution_count": 5,
   "id": "8748f138-7f26-4d7f-b5ac-26e0298ba84c",
   "metadata": {},
   "outputs": [
    {
     "data": {
      "text/html": [
       "<div>\n",
       "<style scoped>\n",
       "    .dataframe tbody tr th:only-of-type {\n",
       "        vertical-align: middle;\n",
       "    }\n",
       "\n",
       "    .dataframe tbody tr th {\n",
       "        vertical-align: top;\n",
       "    }\n",
       "\n",
       "    .dataframe thead th {\n",
       "        text-align: right;\n",
       "    }\n",
       "</style>\n",
       "<table border=\"1\" class=\"dataframe\">\n",
       "  <thead>\n",
       "    <tr style=\"text-align: right;\">\n",
       "      <th></th>\n",
       "      <th>Rank</th>\n",
       "      <th>Player</th>\n",
       "      <th>Age</th>\n",
       "      <th>Tm</th>\n",
       "      <th>First</th>\n",
       "      <th>Pts Won</th>\n",
       "      <th>Pts Max</th>\n",
       "      <th>Share</th>\n",
       "      <th>G</th>\n",
       "      <th>MP</th>\n",
       "      <th>PTS</th>\n",
       "      <th>TRB</th>\n",
       "      <th>AST</th>\n",
       "      <th>STL</th>\n",
       "      <th>BLK</th>\n",
       "      <th>FG%</th>\n",
       "      <th>3P%</th>\n",
       "      <th>FT%</th>\n",
       "      <th>WS</th>\n",
       "      <th>WS/48</th>\n",
       "    </tr>\n",
       "  </thead>\n",
       "  <tbody>\n",
       "    <tr>\n",
       "      <th>0</th>\n",
       "      <td>1</td>\n",
       "      <td>NIKOLA JOKIĆ</td>\n",
       "      <td>28</td>\n",
       "      <td>DEN</td>\n",
       "      <td>79</td>\n",
       "      <td>926</td>\n",
       "      <td>990</td>\n",
       "      <td>0.935</td>\n",
       "      <td>79</td>\n",
       "      <td>34.6</td>\n",
       "      <td>26.4</td>\n",
       "      <td>12.4</td>\n",
       "      <td>9.0</td>\n",
       "      <td>1.4</td>\n",
       "      <td>0.9</td>\n",
       "      <td>0.583</td>\n",
       "      <td>0.359</td>\n",
       "      <td>0.817</td>\n",
       "      <td>17.0</td>\n",
       "      <td>0.299</td>\n",
       "    </tr>\n",
       "    <tr>\n",
       "      <th>1</th>\n",
       "      <td>2</td>\n",
       "      <td>SHAI GILGEOUS-ALEXANDER</td>\n",
       "      <td>25</td>\n",
       "      <td>OKC</td>\n",
       "      <td>15</td>\n",
       "      <td>640</td>\n",
       "      <td>990</td>\n",
       "      <td>0.646</td>\n",
       "      <td>75</td>\n",
       "      <td>34.0</td>\n",
       "      <td>30.1</td>\n",
       "      <td>5.5</td>\n",
       "      <td>6.2</td>\n",
       "      <td>2.0</td>\n",
       "      <td>0.9</td>\n",
       "      <td>0.535</td>\n",
       "      <td>0.353</td>\n",
       "      <td>0.874</td>\n",
       "      <td>14.6</td>\n",
       "      <td>0.275</td>\n",
       "    </tr>\n",
       "    <tr>\n",
       "      <th>2</th>\n",
       "      <td>3</td>\n",
       "      <td>LUKA DONČIĆ</td>\n",
       "      <td>24</td>\n",
       "      <td>DAL</td>\n",
       "      <td>4</td>\n",
       "      <td>566</td>\n",
       "      <td>990</td>\n",
       "      <td>0.572</td>\n",
       "      <td>70</td>\n",
       "      <td>37.5</td>\n",
       "      <td>33.9</td>\n",
       "      <td>9.2</td>\n",
       "      <td>9.8</td>\n",
       "      <td>1.4</td>\n",
       "      <td>0.5</td>\n",
       "      <td>0.487</td>\n",
       "      <td>0.382</td>\n",
       "      <td>0.786</td>\n",
       "      <td>12.0</td>\n",
       "      <td>0.220</td>\n",
       "    </tr>\n",
       "    <tr>\n",
       "      <th>3</th>\n",
       "      <td>4</td>\n",
       "      <td>GIANNIS ANTETOKOUNMPO</td>\n",
       "      <td>29</td>\n",
       "      <td>MIL</td>\n",
       "      <td>1</td>\n",
       "      <td>192</td>\n",
       "      <td>990</td>\n",
       "      <td>0.194</td>\n",
       "      <td>73</td>\n",
       "      <td>35.2</td>\n",
       "      <td>30.4</td>\n",
       "      <td>11.5</td>\n",
       "      <td>6.5</td>\n",
       "      <td>1.2</td>\n",
       "      <td>1.1</td>\n",
       "      <td>0.611</td>\n",
       "      <td>0.274</td>\n",
       "      <td>0.657</td>\n",
       "      <td>13.2</td>\n",
       "      <td>0.246</td>\n",
       "    </tr>\n",
       "    <tr>\n",
       "      <th>4</th>\n",
       "      <td>5</td>\n",
       "      <td>JALEN BRUNSON</td>\n",
       "      <td>27</td>\n",
       "      <td>NYK</td>\n",
       "      <td>0</td>\n",
       "      <td>142</td>\n",
       "      <td>990</td>\n",
       "      <td>0.143</td>\n",
       "      <td>77</td>\n",
       "      <td>35.4</td>\n",
       "      <td>28.7</td>\n",
       "      <td>3.6</td>\n",
       "      <td>6.7</td>\n",
       "      <td>0.9</td>\n",
       "      <td>0.2</td>\n",
       "      <td>0.479</td>\n",
       "      <td>0.401</td>\n",
       "      <td>0.847</td>\n",
       "      <td>11.2</td>\n",
       "      <td>0.198</td>\n",
       "    </tr>\n",
       "  </tbody>\n",
       "</table>\n",
       "</div>"
      ],
      "text/plain": [
       "   Rank                   Player  Age   Tm  First  Pts Won  Pts Max  Share  \\\n",
       "0     1             NIKOLA JOKIĆ   28  DEN     79      926      990  0.935   \n",
       "1     2  SHAI GILGEOUS-ALEXANDER   25  OKC     15      640      990  0.646   \n",
       "2     3              LUKA DONČIĆ   24  DAL      4      566      990  0.572   \n",
       "3     4    GIANNIS ANTETOKOUNMPO   29  MIL      1      192      990  0.194   \n",
       "4     5            JALEN BRUNSON   27  NYK      0      142      990  0.143   \n",
       "\n",
       "    G    MP   PTS   TRB  AST  STL  BLK    FG%    3P%    FT%    WS  WS/48  \n",
       "0  79  34.6  26.4  12.4  9.0  1.4  0.9  0.583  0.359  0.817  17.0  0.299  \n",
       "1  75  34.0  30.1   5.5  6.2  2.0  0.9  0.535  0.353  0.874  14.6  0.275  \n",
       "2  70  37.5  33.9   9.2  9.8  1.4  0.5  0.487  0.382  0.786  12.0  0.220  \n",
       "3  73  35.2  30.4  11.5  6.5  1.2  1.1  0.611  0.274  0.657  13.2  0.246  \n",
       "4  77  35.4  28.7   3.6  6.7  0.9  0.2  0.479  0.401  0.847  11.2  0.198  "
      ]
     },
     "execution_count": 5,
     "metadata": {},
     "output_type": "execute_result"
    }
   ],
   "source": [
    "mvp_df.head()"
   ]
  },
  {
   "cell_type": "code",
   "execution_count": 6,
   "id": "4ac0aae4-3f29-4f5c-89e5-a0a9a6996524",
   "metadata": {},
   "outputs": [
    {
     "data": {
      "text/html": [
       "<iframe\n",
       "    scrolling=\"no\"\n",
       "    width=\"100%\"\n",
       "    height=\"545px\"\n",
       "    src=\"iframe_figures/figure_6.html\"\n",
       "    frameborder=\"0\"\n",
       "    allowfullscreen\n",
       "></iframe>\n"
      ]
     },
     "metadata": {},
     "output_type": "display_data"
    },
    {
     "data": {
      "text/html": [
       "<iframe\n",
       "    scrolling=\"no\"\n",
       "    width=\"100%\"\n",
       "    height=\"545px\"\n",
       "    src=\"iframe_figures/figure_6.html\"\n",
       "    frameborder=\"0\"\n",
       "    allowfullscreen\n",
       "></iframe>\n"
      ]
     },
     "metadata": {},
     "output_type": "display_data"
    }
   ],
   "source": [
    "dims = {\n",
    "        'PLAYER_FULLNAME': 'Player',\n",
    "        'eFG%_player': 'Eff. FG%',\n",
    "        'TS%_player' : 'True Shooting%',\n",
    "        'BLK': 'Blocks',\n",
    "        'TRB': 'Rebounds',\n",
    "        'PTS_opp_pg': 'Opp. PPG',\n",
    "        'PER': 'PER',\n",
    "        'WS': 'Win Shares',\n",
    "        # 'WS/48': 'WS per 48 minutes (WS/48)',\n",
    "        'W/L%': 'Win-Loss %',\n",
    "        'Pace': 'Team Pace',\n",
    "        'MOV': 'MOV',\n",
    "        'Pts_Won': 'MVP Points Won'\n",
    "    }\n",
    "\n",
    "advanced_metrics_player_contribution_filtered(player_df, team_df, mvp_df.head(), dims=dims, include_non_mvp=False)"
   ]
  },
  {
   "cell_type": "code",
   "execution_count": 7,
   "id": "7400251b-28b6-47ff-9841-334222769b16",
   "metadata": {},
   "outputs": [
    {
     "data": {
      "text/html": [
       "<iframe\n",
       "    scrolling=\"no\"\n",
       "    width=\"100%\"\n",
       "    height=\"545px\"\n",
       "    src=\"iframe_figures/figure_7.html\"\n",
       "    frameborder=\"0\"\n",
       "    allowfullscreen\n",
       "></iframe>\n"
      ]
     },
     "metadata": {},
     "output_type": "display_data"
    },
    {
     "data": {
      "text/html": [
       "<iframe\n",
       "    scrolling=\"no\"\n",
       "    width=\"100%\"\n",
       "    height=\"545px\"\n",
       "    src=\"iframe_figures/figure_7.html\"\n",
       "    frameborder=\"0\"\n",
       "    allowfullscreen\n",
       "></iframe>\n"
      ]
     },
     "metadata": {},
     "output_type": "display_data"
    }
   ],
   "source": [
    "defense_vs_opponent_scoring(player_df, team_df, mvp_df)"
   ]
  },
  {
   "cell_type": "code",
   "execution_count": 8,
   "id": "ddea4f07-d017-4ae4-b5fa-eaa1233ccd72",
   "metadata": {},
   "outputs": [
    {
     "data": {
      "text/html": [
       "<iframe\n",
       "    scrolling=\"no\"\n",
       "    width=\"100%\"\n",
       "    height=\"545px\"\n",
       "    src=\"iframe_figures/figure_8.html\"\n",
       "    frameborder=\"0\"\n",
       "    allowfullscreen\n",
       "></iframe>\n"
      ]
     },
     "metadata": {},
     "output_type": "display_data"
    },
    {
     "data": {
      "text/html": [
       "<iframe\n",
       "    scrolling=\"no\"\n",
       "    width=\"100%\"\n",
       "    height=\"545px\"\n",
       "    src=\"iframe_figures/figure_8.html\"\n",
       "    frameborder=\"0\"\n",
       "    allowfullscreen\n",
       "></iframe>\n"
      ]
     },
     "metadata": {},
     "output_type": "display_data"
    }
   ],
   "source": [
    "scoring_vs_offensive_rating(player_df, team_df, mvp_df)"
   ]
  },
  {
   "cell_type": "code",
   "execution_count": 9,
   "id": "6aa42365-4a50-414d-b405-87de417eccb3",
   "metadata": {},
   "outputs": [
    {
     "data": {
      "text/html": [
       "<iframe\n",
       "    scrolling=\"no\"\n",
       "    width=\"100%\"\n",
       "    height=\"545px\"\n",
       "    src=\"iframe_figures/figure_9.html\"\n",
       "    frameborder=\"0\"\n",
       "    allowfullscreen\n",
       "></iframe>\n"
      ]
     },
     "metadata": {},
     "output_type": "display_data"
    },
    {
     "data": {
      "text/html": [
       "<iframe\n",
       "    scrolling=\"no\"\n",
       "    width=\"100%\"\n",
       "    height=\"545px\"\n",
       "    src=\"iframe_figures/figure_9.html\"\n",
       "    frameborder=\"0\"\n",
       "    allowfullscreen\n",
       "></iframe>\n"
      ]
     },
     "metadata": {},
     "output_type": "display_data"
    }
   ],
   "source": [
    "top_scorers_team_success(player_df, team_df, mvp_df)"
   ]
  },
  {
   "cell_type": "code",
   "execution_count": 10,
   "id": "863782d9-d22f-4a06-a2ac-cd11257ad688",
   "metadata": {},
   "outputs": [
    {
     "data": {
      "text/html": [
       "<iframe\n",
       "    scrolling=\"no\"\n",
       "    width=\"100%\"\n",
       "    height=\"545px\"\n",
       "    src=\"iframe_figures/figure_10.html\"\n",
       "    frameborder=\"0\"\n",
       "    allowfullscreen\n",
       "></iframe>\n"
      ]
     },
     "metadata": {},
     "output_type": "display_data"
    },
    {
     "data": {
      "text/html": [
       "<iframe\n",
       "    scrolling=\"no\"\n",
       "    width=\"100%\"\n",
       "    height=\"545px\"\n",
       "    src=\"iframe_figures/figure_10.html\"\n",
       "    frameborder=\"0\"\n",
       "    allowfullscreen\n",
       "></iframe>\n"
      ]
     },
     "metadata": {},
     "output_type": "display_data"
    }
   ],
   "source": [
    "advanced_metrics_scatter_matrix(player_df, team_df, mvp_df)"
   ]
  },
  {
   "cell_type": "code",
   "execution_count": 11,
   "id": "850b70d8-97c7-4287-9d1a-df6e7f32d231",
   "metadata": {},
   "outputs": [
    {
     "data": {
      "text/html": [
       "<iframe\n",
       "    scrolling=\"no\"\n",
       "    width=\"100%\"\n",
       "    height=\"545px\"\n",
       "    src=\"iframe_figures/figure_11.html\"\n",
       "    frameborder=\"0\"\n",
       "    allowfullscreen\n",
       "></iframe>\n"
      ]
     },
     "metadata": {},
     "output_type": "display_data"
    },
    {
     "data": {
      "text/html": [
       "<iframe\n",
       "    scrolling=\"no\"\n",
       "    width=\"100%\"\n",
       "    height=\"545px\"\n",
       "    src=\"iframe_figures/figure_11.html\"\n",
       "    frameborder=\"0\"\n",
       "    allowfullscreen\n",
       "></iframe>\n"
      ]
     },
     "metadata": {},
     "output_type": "display_data"
    }
   ],
   "source": [
    "voting_share_vs_points(mvp_df)"
   ]
  },
  {
   "cell_type": "code",
   "execution_count": 12,
   "id": "f7f78cda-0027-4e81-a5f4-13d9ffc1eeda",
   "metadata": {},
   "outputs": [
    {
     "data": {
      "text/html": [
       "<iframe\n",
       "    scrolling=\"no\"\n",
       "    width=\"100%\"\n",
       "    height=\"545px\"\n",
       "    src=\"iframe_figures/figure_12.html\"\n",
       "    frameborder=\"0\"\n",
       "    allowfullscreen\n",
       "></iframe>\n"
      ]
     },
     "metadata": {},
     "output_type": "display_data"
    },
    {
     "data": {
      "text/html": [
       "<iframe\n",
       "    scrolling=\"no\"\n",
       "    width=\"100%\"\n",
       "    height=\"545px\"\n",
       "    src=\"iframe_figures/figure_12.html\"\n",
       "    frameborder=\"0\"\n",
       "    allowfullscreen\n",
       "></iframe>\n"
      ]
     },
     "metadata": {},
     "output_type": "display_data"
    }
   ],
   "source": [
    "voting_share_vs_ws_per_48(mvp_df)"
   ]
  },
  {
   "cell_type": "code",
   "execution_count": 13,
   "id": "137e5de1-46db-45c7-b965-25190687354f",
   "metadata": {},
   "outputs": [
    {
     "data": {
      "text/html": [
       "<iframe\n",
       "    scrolling=\"no\"\n",
       "    width=\"100%\"\n",
       "    height=\"545px\"\n",
       "    src=\"iframe_figures/figure_13.html\"\n",
       "    frameborder=\"0\"\n",
       "    allowfullscreen\n",
       "></iframe>\n"
      ]
     },
     "metadata": {},
     "output_type": "display_data"
    },
    {
     "data": {
      "text/html": [
       "<iframe\n",
       "    scrolling=\"no\"\n",
       "    width=\"100%\"\n",
       "    height=\"545px\"\n",
       "    src=\"iframe_figures/figure_13.html\"\n",
       "    frameborder=\"0\"\n",
       "    allowfullscreen\n",
       "></iframe>\n"
      ]
     },
     "metadata": {},
     "output_type": "display_data"
    }
   ],
   "source": [
    "player_performance_parallel(mvp_df)"
   ]
  },
  {
   "cell_type": "code",
   "execution_count": 14,
   "id": "06e9937d-7ffd-4656-8849-7d627b83dd37",
   "metadata": {},
   "outputs": [
    {
     "data": {
      "text/html": [
       "<iframe\n",
       "    scrolling=\"no\"\n",
       "    width=\"100%\"\n",
       "    height=\"545px\"\n",
       "    src=\"iframe_figures/figure_14.html\"\n",
       "    frameborder=\"0\"\n",
       "    allowfullscreen\n",
       "></iframe>\n"
      ]
     },
     "metadata": {},
     "output_type": "display_data"
    },
    {
     "data": {
      "text/html": [
       "<iframe\n",
       "    scrolling=\"no\"\n",
       "    width=\"100%\"\n",
       "    height=\"545px\"\n",
       "    src=\"iframe_figures/figure_14.html\"\n",
       "    frameborder=\"0\"\n",
       "    allowfullscreen\n",
       "></iframe>\n"
      ]
     },
     "metadata": {},
     "output_type": "display_data"
    }
   ],
   "source": [
    "age_vs_voting_share(mvp_df)"
   ]
  },
  {
   "cell_type": "code",
   "execution_count": 15,
   "id": "5f2f364f-078f-44f1-bd74-900e5b583094",
   "metadata": {},
   "outputs": [
    {
     "data": {
      "text/html": [
       "<iframe\n",
       "    scrolling=\"no\"\n",
       "    width=\"100%\"\n",
       "    height=\"545px\"\n",
       "    src=\"iframe_figures/figure_15.html\"\n",
       "    frameborder=\"0\"\n",
       "    allowfullscreen\n",
       "></iframe>\n"
      ]
     },
     "metadata": {},
     "output_type": "display_data"
    },
    {
     "data": {
      "text/html": [
       "<iframe\n",
       "    scrolling=\"no\"\n",
       "    width=\"100%\"\n",
       "    height=\"545px\"\n",
       "    src=\"iframe_figures/figure_15.html\"\n",
       "    frameborder=\"0\"\n",
       "    allowfullscreen\n",
       "></iframe>\n"
      ]
     },
     "metadata": {},
     "output_type": "display_data"
    }
   ],
   "source": [
    "team_representation(mvp_df)"
   ]
  },
  {
   "cell_type": "code",
   "execution_count": 16,
   "id": "61ae0870-f5fb-4e5f-ad3a-45e0ff83b1ea",
   "metadata": {},
   "outputs": [
    {
     "data": {
      "text/html": [
       "<iframe\n",
       "    scrolling=\"no\"\n",
       "    width=\"100%\"\n",
       "    height=\"545px\"\n",
       "    src=\"iframe_figures/figure_16.html\"\n",
       "    frameborder=\"0\"\n",
       "    allowfullscreen\n",
       "></iframe>\n"
      ]
     },
     "metadata": {},
     "output_type": "display_data"
    },
    {
     "data": {
      "text/html": [
       "<iframe\n",
       "    scrolling=\"no\"\n",
       "    width=\"100%\"\n",
       "    height=\"545px\"\n",
       "    src=\"iframe_figures/figure_16.html\"\n",
       "    frameborder=\"0\"\n",
       "    allowfullscreen\n",
       "></iframe>\n"
      ]
     },
     "metadata": {},
     "output_type": "display_data"
    }
   ],
   "source": [
    "voting_share_distribution(mvp_df)"
   ]
  },
  {
   "cell_type": "code",
   "execution_count": null,
   "id": "785fdda8-7386-417c-98dd-26bb6122b71a",
   "metadata": {},
   "outputs": [],
   "source": []
  },
  {
   "cell_type": "code",
   "execution_count": null,
   "id": "79c30f7a-0607-477d-bf28-476d61181b16",
   "metadata": {},
   "outputs": [],
   "source": []
  },
  {
   "cell_type": "code",
   "execution_count": null,
   "id": "bc5e8156-962a-4e5e-b760-b368d1d9e19c",
   "metadata": {},
   "outputs": [],
   "source": []
  },
  {
   "cell_type": "code",
   "execution_count": null,
   "id": "fb204e25-2735-4381-82eb-7d66e3e4b284",
   "metadata": {},
   "outputs": [],
   "source": []
  },
  {
   "cell_type": "code",
   "execution_count": null,
   "id": "a624ed04-2bfb-47b6-87f4-76ec9d617475",
   "metadata": {},
   "outputs": [],
   "source": []
  }
 ],
 "metadata": {
  "kernelspec": {
   "display_name": "Python 3 (ipykernel)",
   "language": "python",
   "name": "python3"
  },
  "language_info": {
   "codemirror_mode": {
    "name": "ipython",
    "version": 3
   },
   "file_extension": ".py",
   "mimetype": "text/x-python",
   "name": "python",
   "nbconvert_exporter": "python",
   "pygments_lexer": "ipython3",
   "version": "3.12.7"
  }
 },
 "nbformat": 4,
 "nbformat_minor": 5
}
