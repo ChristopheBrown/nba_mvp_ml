{
 "cells": [
  {
   "cell_type": "code",
   "execution_count": 1,
   "id": "54eea001-d24a-437c-8fed-8b8137bba9ca",
   "metadata": {},
   "outputs": [],
   "source": [
    "import os\n",
    "from openai import OpenAI"
   ]
  },
  {
   "cell_type": "code",
   "execution_count": 13,
   "id": "2dcec016-1815-40d6-a5f3-2ead10899a79",
   "metadata": {},
   "outputs": [
    {
     "name": "stdout",
     "output_type": "stream",
     "text": [
      "You are an expert NBA historian. You are knowledgeable on all NBA players and outstanding performances dating back to the 1980 season. You are also an expert analyst on the NBA MVP race for each year from 1980 to today.\n"
     ]
    }
   ],
   "source": [
    "import json\n",
    "\n",
    "# Path to the JSON file\n",
    "prompts_path = '/Users/cb/src/nba_mvp_ml/json/mvp-qualitative.json'\n",
    "\n",
    "# Read the JSON file into a dictionary\n",
    "with open(prompts_path, 'r', encoding='utf-8') as file:\n",
    "    gpt_prompts = json.load(file)\n",
    "\n",
    "\n",
    "role_path = '/Users/cb/src/nba_mvp_ml/json/mvp-role.json'\n",
    "with open(role_path, 'r', encoding='utf-8') as file:\n",
    "    gpt_role = json.load(file)\n",
    "\n",
    "print(gpt_role['role'])  # Optional: Print to verify the contents"
   ]
  },
  {
   "cell_type": "code",
   "execution_count": 14,
   "id": "dacbc4b9-c527-4b4b-81a3-a3dcdfeb2db0",
   "metadata": {},
   "outputs": [],
   "source": [
    "api_key = None\n",
    "\n",
    "with open(\"/Users/cb/src/gpt-4o-api-key-expires-02-25.txt\", \"r\") as file:\n",
    "    api_key = file.read().strip()\n",
    "\n",
    "token = api_key\n",
    "endpoint = \"https://models.inference.ai.azure.com\"\n",
    "model_name = \"gpt-4o\"\n",
    "\n",
    "client = OpenAI(\n",
    "    base_url=endpoint,\n",
    "    api_key=token,\n",
    ")"
   ]
  },
  {
   "cell_type": "code",
   "execution_count": 19,
   "id": "b90a36d0-6413-4ae1-89c5-be7255d8aa54",
   "metadata": {},
   "outputs": [
    {
     "data": {
      "text/plain": [
       "'Recall the NBA 2005-06 NBA season. On a scale of 0 to 10, rate the impact of compelling narratives or storylines surrounding the player. Include examples of personal achievements, overcoming adversity, or any unique season-defining moments.. Always begin your answer with your rating. Format it like so: [[<RATING> / 10]]'"
      ]
     },
     "execution_count": 19,
     "metadata": {},
     "output_type": "execute_result"
    }
   ],
   "source": [
    "year = 2005\n",
    "criteria = gpt_prompts['3']['prompt']\n",
    "role = gpt_role['role']\n",
    "\n",
    "prompt = f'Recall the NBA {year}-{str(year+1)[2:]} NBA season. {criteria}. Always begin your answer with your rating. Format it like so: [[<RATING> / 10]]'\n",
    "\n",
    "prompt"
   ]
  },
  {
   "cell_type": "code",
   "execution_count": 20,
   "id": "73444dd9-6f42-4e4f-a8e3-19360ab4d062",
   "metadata": {},
   "outputs": [
    {
     "name": "stdout",
     "output_type": "stream",
     "text": [
      "[[9 / 10]] The 2005-06 NBA season was rich with compelling narratives, especially surrounding the MVP winner, Steve Nash, and his major competitors.  \n",
      "\n",
      "- **Steve Nash**: Nash won his second consecutive MVP award, which was a significant achievement as he became just the ninth player in NBA history at that time to win back-to-back MVPs. Nash's leadership and skill in guiding the Phoenix Suns to a 54-28 record while playing without Amar'e Stoudemire for most of the season (due to a serious knee injury) was a remarkable storyline demonstrating overcoming adversity. His performance in the \"Seven Seconds or Less\" offense was a major talking point, as he led the league in assists per game and was a key player in transforming the Suns into one of the most exciting teams to watch.\n",
      "\n",
      "- **Kobe Bryant**: This was the season when Kobe Bryant had one of the most unforgettable individual performances in NBA history, scoring 81 points in a single game against the Toronto Raptors. This was an era-defining moment as it was the second-highest point total in a single game in NBA history. His scoring prowess throughout the season, averaging 35.4 points per game (the highest since Michael Jordan in 1986-87), was also a key storyline, especially considering he played on a Lakers team that lacked substantial support.\n",
      "\n",
      "- **Dirk Nowitzki**: Dirk led the Dallas Mavericks to a 60-22 record and the second seed in the Western Conference with consistently dominant performances. His ability to guide the Mavericks to such success was notable considering the team's strong competition in the West.\n",
      "\n",
      "- **LeBron James**: In his third season, LeBron James emerged as a superstar, finishing the season with averages of 31.4 points, 7.0 rebounds, and 6.6 assists per game. His rise was a major narrative, as he led the Cleveland Cavaliers to a 50-win season and into the playoffs, establishing himself as one of the league's premier players.\n",
      "\n",
      "- **Dwyane Wade and the Miami Heat**: While not directly an MVP storyline, Dwyane Wade's emergence and the eventual championship for the Miami Heat added to the season's compelling storylines. His performance, particularly in the playoffs, and his developing partnership with Shaquille O'Neal, captivated fans.\n",
      "\n",
      "These narratives, among several others, provided a rich tapestry of stories that captured the attention of fans and analysts throughout the 2005-06 NBA season.\n"
     ]
    }
   ],
   "source": [
    "response = client.chat.completions.create(\n",
    "    messages=[\n",
    "        {\n",
    "            \"role\": \"system\",\n",
    "            \"content\": role,\n",
    "        },\n",
    "        {\n",
    "            \"role\": \"user\",\n",
    "            \"content\": prompt,\n",
    "        }\n",
    "    ],\n",
    "    temperature=1.0,\n",
    "    top_p=1.0,\n",
    "    max_tokens=1000,\n",
    "    model=model_name\n",
    ")\n",
    "\n",
    "print(response.choices[0].message.content)"
   ]
  },
  {
   "cell_type": "code",
   "execution_count": 21,
   "id": "1c04c7df-26ff-4693-bd35-3a42c9a229a4",
   "metadata": {},
   "outputs": [
    {
     "name": "stdout",
     "output_type": "stream",
     "text": [
      "[[9 / 10]]\n",
      "\n",
      "The 2005-06 NBA season was filled with compelling narratives and storylines, particularly surrounding Kobe Bryant. This season was one of the most memorable in his career, marked by several personal achievements and defining moments:\n",
      "\n",
      "1. **81-Point Game**: On January 22, 2006, Kobe Bryant scored 81 points against the Toronto Raptors, the second-highest single-game scoring performance in NBA history, only behind Wilt Chamberlain's 100-point game. This performance was a defining moment of the season and showcased Kobe's scoring prowess.\n",
      "\n",
      "2. **Scoring Title**: Kobe won the scoring title this season, averaging 35.4 points per game, the highest of his career and the highest in the league since Michael Jordan in the 1986-87 season.\n",
      "\n",
      "3. **Overcoming Adversity**: The Lakers were in a transitional phase, with a relatively young and inexperienced roster. Despite this, Kobe led the team to the playoffs, demonstrating his leadership and ability to carry a team.\n",
      "\n",
      "4. **Personal Growth**: This season was also significant for Kobe's personal growth and maturity as a player and leader, following the departure of Shaquille O'Neal and the rebuilding phase of the Lakers.\n",
      "\n",
      "These narratives, combined with Kobe's extraordinary performances, made the 2005-06 season one of the most compelling in his career and in NBA history.\n"
     ]
    }
   ],
   "source": [
    "response = client.chat.completions.create(\n",
    "    messages=[\n",
    "        {\n",
    "            \"role\": \"system\",\n",
    "            \"content\": role,\n",
    "        },\n",
    "        {\n",
    "            \"role\": \"user\",\n",
    "            \"content\": prompt,\n",
    "        }\n",
    "    ],\n",
    "    temperature=0.1,\n",
    "    top_p=1.0,\n",
    "    max_tokens=1000,\n",
    "    model=model_name\n",
    ")\n",
    "\n",
    "print(response.choices[0].message.content)"
   ]
  },
  {
   "cell_type": "code",
   "execution_count": 22,
   "id": "cc4e435e-3f3d-4684-bb25-6775f83b9744",
   "metadata": {},
   "outputs": [
    {
     "name": "stdout",
     "output_type": "stream",
     "text": [
      "[[9 / 10]]\n",
      "\n",
      "The 2005-06 NBA season was rich with compelling narratives and storylines, particularly surrounding Kobe Bryant. This season was one of the most memorable in his career, marked by several personal achievements and defining moments:\n",
      "\n",
      "1. **81-Point Game**: On January 22, 2006, Kobe Bryant scored 81 points against the Toronto Raptors, the second-highest single-game scoring performance in NBA history, only behind Wilt Chamberlain's 100-point game. This extraordinary feat captivated the basketball world and solidified Kobe's reputation as one of the greatest scorers in the game.\n",
      "\n",
      "2. **Scoring Title**: Kobe won the scoring title this season, averaging 35.4 points per game, the highest scoring average since Michael Jordan in the 1986-87 season. His scoring prowess was a major storyline throughout the year.\n",
      "\n",
      "3. **Overcoming Adversity**: This season was also significant for Kobe as he was in the process of rebuilding his image and career following the fallout from legal issues and the departure of Shaquille O'Neal from the Lakers. His ability to lead a relatively less talented Lakers team to the playoffs was a testament to his resilience and leadership.\n",
      "\n",
      "4. **Playoff Performance**: Although the Lakers were eliminated in the first round by the Phoenix Suns, Kobe's performance in the series, including a game-winning shot in Game 4, was a highlight and added to the narrative of his competitive spirit.\n",
      "\n",
      "These storylines, combined with Kobe's individual brilliance and the context of his career at that time, made the 2005-06 season particularly compelling and impactful.\n"
     ]
    }
   ],
   "source": [
    "response = client.chat.completions.create(\n",
    "    messages=[\n",
    "        {\n",
    "            \"role\": \"system\",\n",
    "            \"content\": role,\n",
    "        },\n",
    "        {\n",
    "            \"role\": \"user\",\n",
    "            \"content\": prompt,\n",
    "        }\n",
    "    ],\n",
    "    temperature=1,\n",
    "    top_p=0.1,\n",
    "    max_tokens=1000,\n",
    "    model=model_name\n",
    ")\n",
    "\n",
    "print(response.choices[0].message.content)"
   ]
  },
  {
   "cell_type": "code",
   "execution_count": null,
   "id": "c4a4a268-ba73-496a-9a50-05f2ff5af47b",
   "metadata": {},
   "outputs": [],
   "source": []
  }
 ],
 "metadata": {
  "kernelspec": {
   "display_name": "Python 3 (ipykernel)",
   "language": "python",
   "name": "python3"
  },
  "language_info": {
   "codemirror_mode": {
    "name": "ipython",
    "version": 3
   },
   "file_extension": ".py",
   "mimetype": "text/x-python",
   "name": "python",
   "nbconvert_exporter": "python",
   "pygments_lexer": "ipython3",
   "version": "3.12.7"
  }
 },
 "nbformat": 4,
 "nbformat_minor": 5
}
