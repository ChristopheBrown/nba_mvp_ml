{
 "cells": [
  {
   "cell_type": "code",
   "execution_count": 1,
   "id": "33ef72ed-7dad-47a8-87d0-0868abb012aa",
   "metadata": {},
   "outputs": [],
   "source": [
    "import pandas as pd"
   ]
  },
  {
   "cell_type": "code",
   "execution_count": 2,
   "id": "01a569bd-176b-4ead-a6ba-f0c36375ada9",
   "metadata": {},
   "outputs": [],
   "source": [
    "df = pd.read_csv('/Users/cb/src/nba_mvp_ml/data/processed/by_season/fully_merged/2022-23.csv')"
   ]
  },
  {
   "cell_type": "code",
   "execution_count": 3,
   "id": "ada4a536-74d7-4614-a162-5acba0baa6fc",
   "metadata": {},
   "outputs": [],
   "source": [
    "df = df.reindex(sorted(df.columns), axis=1)"
   ]
  },
  {
   "cell_type": "code",
   "execution_count": 6,
   "id": "c0825d5f-b005-44fa-a948-1215504ef475",
   "metadata": {},
   "outputs": [],
   "source": [
    "# df.to_csv('/Users/cb/src/nba_mvp_ml/data/processed/by_season/fully_merged/SORTED_2022-23.csv')"
   ]
  },
  {
   "cell_type": "code",
   "execution_count": 8,
   "id": "f4345893-2517-45df-9aeb-1f8fcb865d71",
   "metadata": {},
   "outputs": [
    {
     "name": "stdout",
     "output_type": "stream",
     "text": [
      "Duplicate Columns: [('2P%', '2P%_pg'), ('2P%_opp', '2P%_opp_pg'), ('3P%_opp', '3P%_opp_pg'), ('3P%_pg', '3P%_x'), ('3P%_y', 'FG3_PCT'), ('3P%_y', 'FG3_PCT_PG'), ('AST', 'AST_player'), ('BLK', 'BLK_PG'), ('FG%_opp', 'FG%_opp_pg'), ('FG%_pg', 'FG%_x'), ('FG%_y', 'FG_PCT'), ('FG%_y', 'FG_PCT_PG'), ('FG3_PCT', 'FG3_PCT_PG'), ('FG_PCT', 'FG_PCT_PG'), ('FT%_opp', 'FT%_opp_pg'), ('FT%_pg', 'FT%_x'), ('FT%_y', 'FT_PCT'), ('FT%_y', 'FT_PCT_PG'), ('FT_PCT', 'FT_PCT_PG'), ('GP', 'G_y'), ('G_opp', 'G_opp_pg'), ('G_opp', 'G_pg'), ('G_opp', 'G_x'), ('G_opp_pg', 'G_pg'), ('G_opp_pg', 'G_x'), ('G_pg', 'G_x'), ('MIN_PG', 'MP_y'), ('MP_opp', 'MP_x'), ('MP_opp_pg', 'MP_pg'), ('PA/G', 'PTS_opp_pg'), ('PLAYER_FULLNAME', 'Player'), ('PS/G', 'PTS_pg'), ('PTS', 'PTS_PG'), ('REB_PG', 'TRB'), ('REB_PG', 'TRB_y'), ('Rk_pg', 'Rk_trad'), ('SEASON_ID', 'Year'), ('SRS', 'SRS_wl'), ('STL', 'STL_PG'), ('TEAM_ABBREVIATION_player', 'TEAM_ABBREVIATION_team'), ('TRB', 'TRB_y'), ('WS', 'WS_x'), ('WS', 'WS_y'), ('WS/48_x', 'WS/48_y'), ('WS_x', 'WS_y')]\n"
     ]
    }
   ],
   "source": [
    "def find_duplicate_columns(df):\n",
    "    duplicates = []\n",
    "    for i in range(len(df.columns)):\n",
    "        for j in range(i + 1, len(df.columns)):\n",
    "            if df.iloc[:, i].equals(df.iloc[:, j]):\n",
    "                duplicates.append((df.columns[i], df.columns[j]))\n",
    "    return duplicates\n",
    "\n",
    "# Example Usage\n",
    "duplicates = find_duplicate_columns(df)\n",
    "print(\"Duplicate Columns:\", list(duplicates))"
   ]
  },
  {
   "cell_type": "code",
   "execution_count": 9,
   "id": "a1f37be5-ba7b-44d5-81e1-0db079395216",
   "metadata": {},
   "outputs": [
    {
     "data": {
      "text/plain": [
       "[('2P%', '2P%_pg'),\n",
       " ('2P%_opp', '2P%_opp_pg'),\n",
       " ('3P%_opp', '3P%_opp_pg'),\n",
       " ('3P%_pg', '3P%_x'),\n",
       " ('3P%_y', 'FG3_PCT'),\n",
       " ('3P%_y', 'FG3_PCT_PG'),\n",
       " ('AST', 'AST_player'),\n",
       " ('BLK', 'BLK_PG'),\n",
       " ('FG%_opp', 'FG%_opp_pg'),\n",
       " ('FG%_pg', 'FG%_x'),\n",
       " ('FG%_y', 'FG_PCT'),\n",
       " ('FG%_y', 'FG_PCT_PG'),\n",
       " ('FG3_PCT', 'FG3_PCT_PG'),\n",
       " ('FG_PCT', 'FG_PCT_PG'),\n",
       " ('FT%_opp', 'FT%_opp_pg'),\n",
       " ('FT%_pg', 'FT%_x'),\n",
       " ('FT%_y', 'FT_PCT'),\n",
       " ('FT%_y', 'FT_PCT_PG'),\n",
       " ('FT_PCT', 'FT_PCT_PG'),\n",
       " ('GP', 'G_y'),\n",
       " ('G_opp', 'G_opp_pg'),\n",
       " ('G_opp', 'G_pg'),\n",
       " ('G_opp', 'G_x'),\n",
       " ('G_opp_pg', 'G_pg'),\n",
       " ('G_opp_pg', 'G_x'),\n",
       " ('G_pg', 'G_x'),\n",
       " ('MIN_PG', 'MP_y'),\n",
       " ('MP_opp', 'MP_x'),\n",
       " ('MP_opp_pg', 'MP_pg'),\n",
       " ('PA/G', 'PTS_opp_pg'),\n",
       " ('PLAYER_FULLNAME', 'Player'),\n",
       " ('PS/G', 'PTS_pg'),\n",
       " ('PTS', 'PTS_PG'),\n",
       " ('REB_PG', 'TRB'),\n",
       " ('REB_PG', 'TRB_y'),\n",
       " ('Rk_pg', 'Rk_trad'),\n",
       " ('SEASON_ID', 'Year'),\n",
       " ('SRS', 'SRS_wl'),\n",
       " ('STL', 'STL_PG'),\n",
       " ('TEAM_ABBREVIATION_player', 'TEAM_ABBREVIATION_team'),\n",
       " ('TRB', 'TRB_y'),\n",
       " ('WS', 'WS_x'),\n",
       " ('WS', 'WS_y'),\n",
       " ('WS/48_x', 'WS/48_y'),\n",
       " ('WS_x', 'WS_y')]"
      ]
     },
     "execution_count": 9,
     "metadata": {},
     "output_type": "execute_result"
    }
   ],
   "source": [
    "list(duplicates)"
   ]
  },
  {
   "cell_type": "code",
   "execution_count": 10,
   "id": "e284bc16-d21e-4735-84fb-ddaf3afb4fe3",
   "metadata": {},
   "outputs": [],
   "source": [
    "repeat_cols = [\n",
    "    '2P%',\n",
    "    '2P%_opp',\n",
    "    '3P%_opp',\n",
    "    '3P%_x',\n",
    "    '3P%_y',\n",
    "    'FG3_PCT',\n",
    "    'AST_player',\n",
    "    'BLK',\n",
    "    'FG%_opp',\n",
    "    'FG%_x',\n",
    "    'FG%_y',\n",
    "    'FG_PCT',\n",
    "    'FT%_opp',\n",
    "    'FT%_x',\n",
    "    'FT%_y',\n",
    "    'FT_PCT',\n",
    "    'G_y',\n",
    "    'G_opp',\n",
    "    'G_pg',\n",
    "    'G_x',\n",
    "    'MP_y',\n",
    "    'MP_x',\n",
    "    'MP_pg',\n",
    "    'PA/G',\n",
    "    'PLAYER_FULLNAME',\n",
    "    'PS/G',\n",
    "    'PTS',\n",
    "    'TRB',\n",
    "    'TRB_y',\n",
    "    'SEASON_ID',\n",
    "    'SRS_wl',\n",
    "    'STL',\n",
    "    'TEAM_ABBREVIATION_player',\n",
    "    'TRB_y',\n",
    "    'WS_x',\n",
    "    'WS_y',\n",
    "    'WS/48_y'\n",
    "]"
   ]
  },
  {
   "cell_type": "code",
   "execution_count": 12,
   "id": "078b7174-a180-4f6f-be3e-8f1287cf6123",
   "metadata": {},
   "outputs": [
    {
     "name": "stdout",
     "output_type": "stream",
     "text": [
      "['2P%', '2P%_opp', '3P%_opp', '3P%_x', '3P%_y', 'FG3_PCT', 'AST_player', 'BLK', 'FG%_opp', 'FG%_x', 'FG%_y', 'FG_PCT', 'FT%_opp', 'FT%_x', 'FT%_y', 'FT_PCT', 'G_y', 'G_opp', 'G_pg', 'G_x', 'MP_y', 'MP_x', 'MP_pg', 'PA/G', 'PLAYER_FULLNAME', 'PS/G', 'PTS', 'TRB', 'TRB_y', 'SEASON_ID', 'SRS_wl', 'STL', 'TEAM_ABBREVIATION_player', 'TRB_y', 'WS_x', 'WS_y', 'WS/48_y']\n"
     ]
    }
   ],
   "source": [
    "print(repeat_cols)"
   ]
  },
  {
   "cell_type": "code",
   "execution_count": null,
   "id": "af4e7c1b-04ac-42bd-99a9-0b0b629e8805",
   "metadata": {},
   "outputs": [],
   "source": []
  },
  {
   "cell_type": "code",
   "execution_count": null,
   "id": "c4fa5199-cfa2-4d8f-8f23-50dfa0101105",
   "metadata": {},
   "outputs": [],
   "source": []
  },
  {
   "cell_type": "code",
   "execution_count": null,
   "id": "7de5660f-303a-49ec-8af1-66c93b85a1c9",
   "metadata": {},
   "outputs": [],
   "source": []
  },
  {
   "cell_type": "code",
   "execution_count": null,
   "id": "75210af6-f7be-4a20-bda5-61d156cf6066",
   "metadata": {},
   "outputs": [],
   "source": []
  },
  {
   "cell_type": "code",
   "execution_count": null,
   "id": "04996173-cd0b-49fe-9659-10d705647e31",
   "metadata": {},
   "outputs": [],
   "source": []
  },
  {
   "cell_type": "code",
   "execution_count": null,
   "id": "1323262c-c5b2-4654-b76a-2628cb92a0e3",
   "metadata": {},
   "outputs": [],
   "source": []
  },
  {
   "cell_type": "code",
   "execution_count": null,
   "id": "f1f29ea1-3078-4672-b445-2474d653e73d",
   "metadata": {},
   "outputs": [],
   "source": []
  },
  {
   "cell_type": "code",
   "execution_count": null,
   "id": "259b5036-ad90-411d-bee2-ccf185197d3e",
   "metadata": {},
   "outputs": [],
   "source": []
  }
 ],
 "metadata": {
  "kernelspec": {
   "display_name": "Python 3 (ipykernel)",
   "language": "python",
   "name": "python3"
  },
  "language_info": {
   "codemirror_mode": {
    "name": "ipython",
    "version": 3
   },
   "file_extension": ".py",
   "mimetype": "text/x-python",
   "name": "python",
   "nbconvert_exporter": "python",
   "pygments_lexer": "ipython3",
   "version": "3.12.7"
  }
 },
 "nbformat": 4,
 "nbformat_minor": 5
}
