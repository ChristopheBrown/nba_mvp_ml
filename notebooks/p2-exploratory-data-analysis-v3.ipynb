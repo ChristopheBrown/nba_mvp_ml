{
 "cells": [
  {
   "cell_type": "code",
   "execution_count": 1,
   "id": "fbc1f325-d430-47b3-bb6a-d61277aec3bc",
   "metadata": {},
   "outputs": [],
   "source": [
    "# !pip install plotly jupyterlab"
   ]
  },
  {
   "cell_type": "code",
   "execution_count": 2,
   "id": "d391548b-02ab-4c9b-a4c9-7e9a01067b65",
   "metadata": {},
   "outputs": [],
   "source": [
    "import pandas as pd\n",
    "\n",
    "import plotly.express as px\n",
    "import plotly.io as pio\n",
    "# pio.renderers.default = 'notebook'\n",
    "pio.renderers.default = 'iframe'\n",
    "\n",
    "import seaborn as sns\n",
    "import matplotlib.pyplot as plt"
   ]
  },
  {
   "cell_type": "code",
   "execution_count": 3,
   "id": "b84c33cc-64c2-4e7c-9dd6-87bb832fda00",
   "metadata": {},
   "outputs": [],
   "source": [
    "def fix_encoding(text):\n",
    "    try:\n",
    "        return text.encode('latin1').decode('utf-8').upper()\n",
    "    except (UnicodeEncodeError, UnicodeDecodeError):\n",
    "        return text.upper()  # Return original text if fixing fails"
   ]
  },
  {
   "cell_type": "code",
   "execution_count": 32,
   "id": "cd9bc76e-3757-439b-96e9-78cefcb83088",
   "metadata": {},
   "outputs": [
    {
     "name": "stdout",
     "output_type": "stream",
     "text": [
      "Player dataframe columns:\n",
      "['Unnamed: 0', 'PLAYER_ID', 'PLAYER_FULLNAME', 'SEASON_ID', 'LEAGUE_ID', 'TEAM_ID', 'TEAM_ABBREVIATION', 'PLAYER_AGE', 'GP', 'GS', 'MIN', 'FGM', 'FGA', 'FG_PCT', 'FG3M', 'FG3A', 'FG3_PCT', 'FTM', 'FTA', 'FT_PCT', 'OREB', 'DREB', 'REB', 'AST', 'STL', 'BLK', 'TOV', 'PF', 'PTS', 'MIN_PG', 'FGM_PG', 'FGA_PG', 'FG_PCT_PG', 'FG3M_PG', 'FG3A_PG', 'FG3_PCT_PG', 'FTM_PG', 'FTA_PG', 'FT_PCT_PG', 'OREB_PG', 'DREB_PG', 'REB_PG', 'AST_PG', 'STL_PG', 'BLK_PG', 'TOV_PG', 'PF_PG', 'PTS_PG', 'TS%', 'eFG%', 'PER', 'WS']\n",
      "Team dataframe columns:\n",
      "['Rk_trad', 'Team', 'G', 'MP', 'FG', 'FGA', 'FG%', '3P', '3PA', '3P%', '2P', '2PA', '2P%', 'FT', 'FTA', 'FT%', 'ORB', 'DRB', 'TRB', 'AST', 'STL', 'BLK', 'TOV', 'PF', 'PTS', 'SEASON_ID', 'Rk_opp', 'G_opp', 'MP_opp', 'FG_opp', 'FGA_opp', 'FG%_opp', '3P_opp', '3PA_opp', '3P%_opp', '2P_opp', '2PA_opp', '2P%_opp', 'FT_opp', 'FTA_opp', 'FT%_opp', 'ORB_opp', 'DRB_opp', 'TRB_opp', 'AST_opp', 'STL_opp', 'BLK_opp', 'TOV_opp', 'PF_opp', 'PTS_opp', 'Rk_pg', 'G_pg', 'MP_pg', 'FG_pg', 'FGA_pg', 'FG%_pg', '3P_pg', '3PA_pg', '3P%_pg', '2P_pg', '2PA_pg', '2P%_pg', 'FT_pg', 'FTA_pg', 'FT%_pg', 'ORB_pg', 'DRB_pg', 'TRB_pg', 'AST_pg', 'STL_pg', 'BLK_pg', 'TOV_pg', 'PF_pg', 'PTS_pg', 'Rk_opp_pg', 'G_opp_pg', 'MP_opp_pg', 'FG_opp_pg', 'FGA_opp_pg', 'FG%_opp_pg', '3P_opp_pg', '3PA_opp_pg', '3P%_opp_pg', '2P_opp_pg', '2PA_opp_pg', '2P%_opp_pg', 'FT_opp_pg', 'FTA_opp_pg', 'FT%_opp_pg', 'ORB_opp_pg', 'DRB_opp_pg', 'TRB_opp_pg', 'AST_opp_pg', 'STL_opp_pg', 'BLK_opp_pg', 'TOV_opp_pg', 'PF_opp_pg', 'PTS_opp_pg', 'Rk_adv', 'Age', 'W', 'L', 'PW', 'PL', 'MOV', 'SOS', 'SRS', 'ORtg', 'DRtg', 'NRtg', 'Pace', 'FTr', '3PAr', 'TS%', 'eFG%', 'TOV%', 'ORB%', 'FT/FGA', 'eFG%.1', 'TOV%.1', 'DRB%', 'FT/FGA.1', 'Arena', 'Attend.', 'Attend./G', 'W_wl', 'L_wl', 'W/L%', 'GB', 'PS/G', 'PA/G', 'SRS_wl', 'TEAM_ABBREVIATION', 'TEAM_ID']\n",
      "MVP dataframe columns:\n",
      "['Rank', 'Player', 'Age', 'Tm', 'First', 'Pts Won', 'Pts Max', 'Share', 'G', 'MP', 'PTS', 'TRB', 'AST', 'STL', 'BLK', 'FG%', '3P%', 'FT%', 'WS', 'WS/48']\n",
      "MVP List: ['NIKOLA JOKIĆ', 'SHAI GILGEOUS-ALEXANDER', 'LUKA DONČIĆ', 'GIANNIS ANTETOKOUNMPO', 'JALEN BRUNSON', 'JAYSON TATUM', 'ANTHONY EDWARDS', 'DOMANTAS SABONIS', 'KEVIN DURANT']\n"
     ]
    }
   ],
   "source": [
    "year = 2023\n",
    "\n",
    "player_stats_path = f'/Users/cb/src/nba_mvp_ml/data/processed/by_season/players/stats_{year}.csv'\n",
    "team_stats_path = f'/Users/cb/src/nba_mvp_ml/data/processed/by_season/team (basketball-reference)/team_stats_{year}_updated.csv'\n",
    "mvp_votes_path = f'/Users/cb/src/nba_mvp_ml/data/processed/by_season/mvp/mvp_{year}-{str(year+1)[2:]}.csv'\n",
    "\n",
    "player_df = pd.read_csv(player_stats_path)\n",
    "team_df = pd.read_csv(team_stats_path).dropna(axis=1, how='all')\n",
    "mvp_df = pd.read_csv(mvp_votes_path)\n",
    "\n",
    "player_df['PLAYER_FULLNAME'] = player_df['PLAYER_FULLNAME'].apply(fix_encoding)\n",
    "mvp_df['Player'] = mvp_df['Player'].apply(fix_encoding)\n",
    "\n",
    "\n",
    "print(f'Player dataframe columns:\\n{list(player_df.columns)}')\n",
    "print(f'Team dataframe columns:\\n{list(team_df.columns)}')\n",
    "print(f'MVP dataframe columns:\\n{list(mvp_df.columns)}')\n",
    "\n",
    "print(f'MVP List: {list(mvp_df['Player'])}')"
   ]
  },
  {
   "cell_type": "code",
   "execution_count": null,
   "id": "3075e115-e3a6-4b73-b38d-77ed106790db",
   "metadata": {},
   "outputs": [],
   "source": []
  },
  {
   "cell_type": "code",
   "execution_count": 5,
   "id": "dc32a74d-def1-4f70-9b10-ec370ae96efc",
   "metadata": {},
   "outputs": [
    {
     "data": {
      "text/html": [
       "<iframe\n",
       "    scrolling=\"no\"\n",
       "    width=\"100%\"\n",
       "    height=\"545px\"\n",
       "    src=\"iframe_figures/figure_5.html\"\n",
       "    frameborder=\"0\"\n",
       "    allowfullscreen\n",
       "></iframe>\n"
      ]
     },
     "metadata": {},
     "output_type": "display_data"
    }
   ],
   "source": [
    "def per_vs_team_success(player_df, team_df, mvp_list):\n",
    "    # Merge player and team data on TEAM_ID and SEASON_ID\n",
    "    merged_df = pd.merge(player_df, team_df, on=['TEAM_ID', 'SEASON_ID'], suffixes=('_player', '_team'))\n",
    "    \n",
    "    # Add a column to differentiate MVP candidates and the actual MVP\n",
    "    actual_mvp = mvp_list[0]  # The first player in the list is the actual MVP\n",
    "    merged_df['MVP_Candidate'] = merged_df['PLAYER_FULLNAME'].apply(\n",
    "        lambda x: 'MVP' if x == actual_mvp else ('MVP Candidate' if x in mvp_list else 'No MVP votes')\n",
    "    )\n",
    "    \n",
    "    # Scatterplot\n",
    "    fig = px.scatter(\n",
    "        merged_df, x='PER', y='W/L%',\n",
    "        size='PTS_player', color='MVP_Candidate',\n",
    "        hover_name='PLAYER_FULLNAME',\n",
    "        title='Player Efficiency Rating (PER) vs Team Success (W/L%)',\n",
    "        labels={'PER': 'Player Efficiency Rating (PER)', 'W/L%': 'Team Win/Loss Percentage'}\n",
    "    )\n",
    "    fig.update_traces(marker=dict(line=dict(width=2, color='DarkSlateGrey')))\n",
    "    fig.update_layout(legend_title_text='Legend')\n",
    "    fig.show()\n",
    "\n",
    "per_vs_team_success(player_df, team_df, mvp_list=list(mvp_df['Player']))"
   ]
  },
  {
   "cell_type": "code",
   "execution_count": 6,
   "id": "7400251b-28b6-47ff-9841-334222769b16",
   "metadata": {},
   "outputs": [
    {
     "data": {
      "text/html": [
       "<iframe\n",
       "    scrolling=\"no\"\n",
       "    width=\"100%\"\n",
       "    height=\"545px\"\n",
       "    src=\"iframe_figures/figure_6.html\"\n",
       "    frameborder=\"0\"\n",
       "    allowfullscreen\n",
       "></iframe>\n"
      ]
     },
     "metadata": {},
     "output_type": "display_data"
    }
   ],
   "source": [
    "def defense_vs_opponent_scoring(player_df, team_df, mvp_list):\n",
    "    # Merge player and team data\n",
    "    merged_df = pd.merge(player_df, team_df, on=['TEAM_ID', 'SEASON_ID'], suffixes=('_player', '_team'))\n",
    "    \n",
    "    # Add a column to differentiate MVP candidates and the actual MVP\n",
    "    actual_mvp = mvp_list[0]\n",
    "    merged_df['MVP_Candidate'] = merged_df['PLAYER_FULLNAME'].apply(\n",
    "        lambda x: 'MVP' if x == actual_mvp else ('MVP Candidate' if x in mvp_list else 'No MVP votes')\n",
    "    )\n",
    "    \n",
    "    # Scatterplot for defensive stats and opponent scoring\n",
    "    fig = px.scatter(\n",
    "        merged_df, x='BLK_player', y='PTS_opp_pg',\n",
    "        size='STL_player', color='MVP_Candidate',\n",
    "        hover_name='PLAYER_FULLNAME',\n",
    "        title='Defensive Impact (BLK, STL) vs Opponent Points Per Game (PTS_opp_pg)',\n",
    "        labels={'BLK_player': 'Player Blocks (BLK)', 'PTS_opp_pg': 'Opponent Points Per Game'}\n",
    "    )\n",
    "    fig.update_traces(marker=dict(line=dict(width=2, color='DarkSlateGrey')))\n",
    "    fig.update_layout(legend_title_text='Legend')\n",
    "    fig.show()\n",
    "\n",
    "# Example usage\n",
    "defense_vs_opponent_scoring(player_df, team_df, mvp_list=list(mvp_df['Player']))"
   ]
  },
  {
   "cell_type": "code",
   "execution_count": 7,
   "id": "ddea4f07-d017-4ae4-b5fa-eaa1233ccd72",
   "metadata": {},
   "outputs": [
    {
     "data": {
      "text/html": [
       "<iframe\n",
       "    scrolling=\"no\"\n",
       "    width=\"100%\"\n",
       "    height=\"545px\"\n",
       "    src=\"iframe_figures/figure_7.html\"\n",
       "    frameborder=\"0\"\n",
       "    allowfullscreen\n",
       "></iframe>\n"
      ]
     },
     "metadata": {},
     "output_type": "display_data"
    }
   ],
   "source": [
    "def scoring_vs_offensive_rating(player_df, team_df, mvp_list):\n",
    "    \"\"\"\n",
    "    Creates a scatter plot highlighting MVP candidates and the actual MVP.\n",
    "\n",
    "    Parameters:\n",
    "    - player_df (DataFrame): The player statistics DataFrame.\n",
    "    - team_df (DataFrame): The team statistics DataFrame.\n",
    "    - mvp_list (list): List of player names who were MVP candidates, with the actual MVP as the first element.\n",
    "    \"\"\"\n",
    "    # Merge player and team data\n",
    "    merged_df = pd.merge(player_df, team_df, on=['TEAM_ID', 'SEASON_ID'], suffixes=('_player', '_team'))\n",
    "    \n",
    "    # Ensure non-negative values for bubble size\n",
    "    merged_df['PER'] = merged_df['PER'].clip(lower=0)  # Replace negative PER with 0\n",
    "    \n",
    "    # Add a column to differentiate MVP candidates and the actual MVP\n",
    "    actual_mvp = mvp_list[0]  # The first player in the list is the actual MVP\n",
    "    merged_df['MVP_Candidate'] = merged_df['PLAYER_FULLNAME'].apply(\n",
    "        lambda x: 'MVP' if x == actual_mvp else ('MVP Candidate' if x in mvp_list else 'No MVP votes')\n",
    "    )\n",
    "    \n",
    "    # Scatterplot\n",
    "    fig = px.scatter(\n",
    "        merged_df, x='PTS_player', y='ORtg',\n",
    "        size='PER', color='MVP_Candidate',\n",
    "        hover_name='PLAYER_FULLNAME',\n",
    "        title='Scoring Impact (PTS) vs Team Offensive Rating (ORtg)',\n",
    "        labels={'PTS_player': 'Player Points Scored (PTS)', 'ORtg': 'Team Offensive Rating (ORtg)'}\n",
    "    )\n",
    "    fig.update_traces(marker=dict(line=dict(width=2, color='DarkSlateGrey')))\n",
    "    fig.update_layout(legend_title_text='Legend')\n",
    "    fig.show()\n",
    "\n",
    "# Example usage\n",
    "scoring_vs_offensive_rating(player_df, team_df, mvp_list=list(mvp_df['Player']))"
   ]
  },
  {
   "cell_type": "code",
   "execution_count": 8,
   "id": "6aa42365-4a50-414d-b405-87de417eccb3",
   "metadata": {},
   "outputs": [
    {
     "data": {
      "text/html": [
       "<iframe\n",
       "    scrolling=\"no\"\n",
       "    width=\"100%\"\n",
       "    height=\"545px\"\n",
       "    src=\"iframe_figures/figure_8.html\"\n",
       "    frameborder=\"0\"\n",
       "    allowfullscreen\n",
       "></iframe>\n"
      ]
     },
     "metadata": {},
     "output_type": "display_data"
    }
   ],
   "source": [
    "def top_scorers_team_success(player_df, team_df, mvp_list):\n",
    "    # Merge and filter top scorers\n",
    "    merged_df = pd.merge(player_df, team_df, on=['TEAM_ID', 'SEASON_ID'], suffixes=('_player', '_team'))\n",
    "    \n",
    "    # Add a column to differentiate MVP candidates and the actual MVP\n",
    "    actual_mvp = mvp_list[0]\n",
    "    merged_df['MVP_Candidate'] = merged_df['PLAYER_FULLNAME'].apply(\n",
    "        lambda x: 'MVP' if x == actual_mvp else ('MVP Candidate' if x in mvp_list else 'No MVP votes')\n",
    "    )\n",
    "    \n",
    "    # Filter top 20 scorers\n",
    "    top_scorers = merged_df.nlargest(20, 'PTS_player')  # Top 20 scorers\n",
    "    \n",
    "    # Bar chart\n",
    "    fig = px.bar(\n",
    "        top_scorers, x='PLAYER_FULLNAME', y='PTS_player',\n",
    "        color='MVP_Candidate',\n",
    "        title='Top Scorers and Team Success',\n",
    "        labels={'PTS_player': 'Player Points Scored', 'W/L%': 'Team Win/Loss Percentage'},\n",
    "        hover_name='TEAM_ABBREVIATION_player'\n",
    "    )\n",
    "    fig.update_xaxes(categoryorder='total descending')\n",
    "    fig.show()\n",
    "\n",
    "# Example usage\n",
    "top_scorers_team_success(player_df, team_df, mvp_list=list(mvp_df['Player']))"
   ]
  },
  {
   "cell_type": "code",
   "execution_count": 34,
   "id": "4ac0aae4-3f29-4f5c-89e5-a0a9a6996524",
   "metadata": {},
   "outputs": [
    {
     "ename": "KeyError",
     "evalue": "'AST_y'",
     "output_type": "error",
     "traceback": [
      "\u001b[0;31m---------------------------------------------------------------------------\u001b[0m",
      "\u001b[0;31mKeyError\u001b[0m                                  Traceback (most recent call last)",
      "File \u001b[0;32m/opt/anaconda3/envs/nba_mvp_ml/lib/python3.12/site-packages/pandas/core/indexes/base.py:3805\u001b[0m, in \u001b[0;36mIndex.get_loc\u001b[0;34m(self, key)\u001b[0m\n\u001b[1;32m   3804\u001b[0m \u001b[38;5;28;01mtry\u001b[39;00m:\n\u001b[0;32m-> 3805\u001b[0m     \u001b[38;5;28;01mreturn\u001b[39;00m \u001b[38;5;28;43mself\u001b[39;49m\u001b[38;5;241;43m.\u001b[39;49m\u001b[43m_engine\u001b[49m\u001b[38;5;241;43m.\u001b[39;49m\u001b[43mget_loc\u001b[49m\u001b[43m(\u001b[49m\u001b[43mcasted_key\u001b[49m\u001b[43m)\u001b[49m\n\u001b[1;32m   3806\u001b[0m \u001b[38;5;28;01mexcept\u001b[39;00m \u001b[38;5;167;01mKeyError\u001b[39;00m \u001b[38;5;28;01mas\u001b[39;00m err:\n",
      "File \u001b[0;32mindex.pyx:167\u001b[0m, in \u001b[0;36mpandas._libs.index.IndexEngine.get_loc\u001b[0;34m()\u001b[0m\n",
      "File \u001b[0;32mindex.pyx:196\u001b[0m, in \u001b[0;36mpandas._libs.index.IndexEngine.get_loc\u001b[0;34m()\u001b[0m\n",
      "File \u001b[0;32mpandas/_libs/hashtable_class_helper.pxi:7081\u001b[0m, in \u001b[0;36mpandas._libs.hashtable.PyObjectHashTable.get_item\u001b[0;34m()\u001b[0m\n",
      "File \u001b[0;32mpandas/_libs/hashtable_class_helper.pxi:7089\u001b[0m, in \u001b[0;36mpandas._libs.hashtable.PyObjectHashTable.get_item\u001b[0;34m()\u001b[0m\n",
      "\u001b[0;31mKeyError\u001b[0m: 'AST_y'",
      "\nThe above exception was the direct cause of the following exception:\n",
      "\u001b[0;31mKeyError\u001b[0m                                  Traceback (most recent call last)",
      "Cell \u001b[0;32mIn[34], line 60\u001b[0m\n\u001b[1;32m     57\u001b[0m     fig\u001b[38;5;241m.\u001b[39mshow()\n\u001b[1;32m     59\u001b[0m \u001b[38;5;66;03m# Example usage\u001b[39;00m\n\u001b[0;32m---> 60\u001b[0m \u001b[43madvanced_metrics_player_contribution_filtered\u001b[49m\u001b[43m(\u001b[49m\u001b[43mplayer_df\u001b[49m\u001b[43m,\u001b[49m\u001b[43m \u001b[49m\u001b[43mteam_df\u001b[49m\u001b[43m,\u001b[49m\u001b[43m \u001b[49m\u001b[43mmvp_df\u001b[49m\u001b[43m)\u001b[49m\n",
      "Cell \u001b[0;32mIn[34], line 32\u001b[0m, in \u001b[0;36madvanced_metrics_player_contribution_filtered\u001b[0;34m(player_df, team_df, mvp_df, include_non_mvp)\u001b[0m\n\u001b[1;32m     30\u001b[0m merged_with_mvp[\u001b[38;5;124m'\u001b[39m\u001b[38;5;124mPTS\u001b[39m\u001b[38;5;124m'\u001b[39m] \u001b[38;5;241m=\u001b[39m merged_with_mvp[\u001b[38;5;124m'\u001b[39m\u001b[38;5;124mPTS\u001b[39m\u001b[38;5;124m'\u001b[39m]\u001b[38;5;241m.\u001b[39mfillna(merged_with_mvp[\u001b[38;5;124m'\u001b[39m\u001b[38;5;124mPTS_player\u001b[39m\u001b[38;5;124m'\u001b[39m])\n\u001b[1;32m     31\u001b[0m merged_with_mvp[\u001b[38;5;124m'\u001b[39m\u001b[38;5;124mTRB\u001b[39m\u001b[38;5;124m'\u001b[39m] \u001b[38;5;241m=\u001b[39m merged_with_mvp[\u001b[38;5;124m'\u001b[39m\u001b[38;5;124mTRB_y\u001b[39m\u001b[38;5;124m'\u001b[39m]\u001b[38;5;241m.\u001b[39mfillna(merged_with_mvp[\u001b[38;5;124m'\u001b[39m\u001b[38;5;124mREB\u001b[39m\u001b[38;5;124m'\u001b[39m])\n\u001b[0;32m---> 32\u001b[0m merged_with_mvp[\u001b[38;5;124m'\u001b[39m\u001b[38;5;124mAST\u001b[39m\u001b[38;5;124m'\u001b[39m] \u001b[38;5;241m=\u001b[39m \u001b[43mmerged_with_mvp\u001b[49m\u001b[43m[\u001b[49m\u001b[38;5;124;43m'\u001b[39;49m\u001b[38;5;124;43mAST_y\u001b[39;49m\u001b[38;5;124;43m'\u001b[39;49m\u001b[43m]\u001b[49m\u001b[38;5;241m.\u001b[39mfillna(merged_with_mvp[\u001b[38;5;124m'\u001b[39m\u001b[38;5;124mAST_player\u001b[39m\u001b[38;5;124m'\u001b[39m])\n\u001b[1;32m     34\u001b[0m \u001b[38;5;66;03m# Optionally filter out non-MVP candidates\u001b[39;00m\n\u001b[1;32m     35\u001b[0m \u001b[38;5;28;01mif\u001b[39;00m \u001b[38;5;129;01mnot\u001b[39;00m include_non_mvp:\n",
      "File \u001b[0;32m/opt/anaconda3/envs/nba_mvp_ml/lib/python3.12/site-packages/pandas/core/frame.py:4102\u001b[0m, in \u001b[0;36mDataFrame.__getitem__\u001b[0;34m(self, key)\u001b[0m\n\u001b[1;32m   4100\u001b[0m \u001b[38;5;28;01mif\u001b[39;00m \u001b[38;5;28mself\u001b[39m\u001b[38;5;241m.\u001b[39mcolumns\u001b[38;5;241m.\u001b[39mnlevels \u001b[38;5;241m>\u001b[39m \u001b[38;5;241m1\u001b[39m:\n\u001b[1;32m   4101\u001b[0m     \u001b[38;5;28;01mreturn\u001b[39;00m \u001b[38;5;28mself\u001b[39m\u001b[38;5;241m.\u001b[39m_getitem_multilevel(key)\n\u001b[0;32m-> 4102\u001b[0m indexer \u001b[38;5;241m=\u001b[39m \u001b[38;5;28;43mself\u001b[39;49m\u001b[38;5;241;43m.\u001b[39;49m\u001b[43mcolumns\u001b[49m\u001b[38;5;241;43m.\u001b[39;49m\u001b[43mget_loc\u001b[49m\u001b[43m(\u001b[49m\u001b[43mkey\u001b[49m\u001b[43m)\u001b[49m\n\u001b[1;32m   4103\u001b[0m \u001b[38;5;28;01mif\u001b[39;00m is_integer(indexer):\n\u001b[1;32m   4104\u001b[0m     indexer \u001b[38;5;241m=\u001b[39m [indexer]\n",
      "File \u001b[0;32m/opt/anaconda3/envs/nba_mvp_ml/lib/python3.12/site-packages/pandas/core/indexes/base.py:3812\u001b[0m, in \u001b[0;36mIndex.get_loc\u001b[0;34m(self, key)\u001b[0m\n\u001b[1;32m   3807\u001b[0m     \u001b[38;5;28;01mif\u001b[39;00m \u001b[38;5;28misinstance\u001b[39m(casted_key, \u001b[38;5;28mslice\u001b[39m) \u001b[38;5;129;01mor\u001b[39;00m (\n\u001b[1;32m   3808\u001b[0m         \u001b[38;5;28misinstance\u001b[39m(casted_key, abc\u001b[38;5;241m.\u001b[39mIterable)\n\u001b[1;32m   3809\u001b[0m         \u001b[38;5;129;01mand\u001b[39;00m \u001b[38;5;28many\u001b[39m(\u001b[38;5;28misinstance\u001b[39m(x, \u001b[38;5;28mslice\u001b[39m) \u001b[38;5;28;01mfor\u001b[39;00m x \u001b[38;5;129;01min\u001b[39;00m casted_key)\n\u001b[1;32m   3810\u001b[0m     ):\n\u001b[1;32m   3811\u001b[0m         \u001b[38;5;28;01mraise\u001b[39;00m InvalidIndexError(key)\n\u001b[0;32m-> 3812\u001b[0m     \u001b[38;5;28;01mraise\u001b[39;00m \u001b[38;5;167;01mKeyError\u001b[39;00m(key) \u001b[38;5;28;01mfrom\u001b[39;00m \u001b[38;5;21;01merr\u001b[39;00m\n\u001b[1;32m   3813\u001b[0m \u001b[38;5;28;01mexcept\u001b[39;00m \u001b[38;5;167;01mTypeError\u001b[39;00m:\n\u001b[1;32m   3814\u001b[0m     \u001b[38;5;66;03m# If we have a listlike key, _check_indexing_error will raise\u001b[39;00m\n\u001b[1;32m   3815\u001b[0m     \u001b[38;5;66;03m#  InvalidIndexError. Otherwise we fall through and re-raise\u001b[39;00m\n\u001b[1;32m   3816\u001b[0m     \u001b[38;5;66;03m#  the TypeError.\u001b[39;00m\n\u001b[1;32m   3817\u001b[0m     \u001b[38;5;28mself\u001b[39m\u001b[38;5;241m.\u001b[39m_check_indexing_error(key)\n",
      "\u001b[0;31mKeyError\u001b[0m: 'AST_y'"
     ]
    }
   ],
   "source": [
    "def advanced_metrics_player_contribution_filtered(player_df, team_df, mvp_df, include_non_mvp=False):\n",
    "    \"\"\"\n",
    "    Creates an advanced metrics visualization highlighting MVP candidates with granularity based on 'Pts Won'.\n",
    "\n",
    "    Parameters:\n",
    "    - player_df (DataFrame): The player statistics DataFrame.\n",
    "    - team_df (DataFrame): The team statistics DataFrame.\n",
    "    - mvp_df (DataFrame): The MVP voting DataFrame.\n",
    "    - include_non_mvp (bool): Whether to include non-MVP candidates in the visualization.\n",
    "    \"\"\"\n",
    "    # Merge player and team data\n",
    "    merged_df = pd.merge(player_df, team_df, on=['TEAM_ID', 'SEASON_ID'], suffixes=('_player', '_team'))\n",
    "\n",
    "    # Add a column to differentiate MVP candidates\n",
    "    merged_df['MVP_Candidate'] = merged_df['PLAYER_FULLNAME'].apply(\n",
    "        lambda x: 'MVP Candidate' if x in mvp_df['Player'].values else 'Other'\n",
    "    )\n",
    "\n",
    "    # Merge MVP voting data into the player/team dataset\n",
    "    merged_with_mvp = pd.merge(\n",
    "        merged_df,\n",
    "        mvp_df[['Player', 'Pts Won', 'WS', 'PTS', 'TRB', 'AST']],  # Select key MVP metrics\n",
    "        how='left',\n",
    "        left_on='PLAYER_FULLNAME',\n",
    "        right_on='Player'\n",
    "    )\n",
    "\n",
    "    # Replace metrics with MVP data where available\n",
    "    merged_with_mvp['WS'] = merged_with_mvp['WS_y'].fillna(merged_with_mvp['WS_x'])\n",
    "    merged_with_mvp['PTS'] = merged_with_mvp['PTS'].fillna(merged_with_mvp['PTS_player'])\n",
    "    merged_with_mvp['TRB'] = merged_with_mvp['TRB_y'].fillna(merged_with_mvp['REB'])\n",
    "    merged_with_mvp['AST'] = merged_with_mvp['AST_y'].fillna(merged_with_mvp['AST_player'])\n",
    "\n",
    "    # Optionally filter out non-MVP candidates\n",
    "    if not include_non_mvp:\n",
    "        merged_with_mvp = merged_with_mvp[merged_with_mvp['MVP_Candidate'] != 'Other']\n",
    "    \n",
    "    # Drop unnecessary columns and avoid confusion between suffixes\n",
    "    merged_with_mvp = merged_with_mvp.rename(columns={'Pts Won': 'Pts_Won'})\n",
    "    analysis_df = merged_with_mvp[['PER', 'WS', 'Pace', 'MOV', 'Pts_Won']]\n",
    "\n",
    "    # Parallel coordinates plot for multidimensional analysis\n",
    "    fig = px.parallel_coordinates(\n",
    "        analysis_df,\n",
    "        dimensions=['PER', 'WS', 'Pace', 'MOV'],  # Metrics to include\n",
    "        color='Pts_Won',\n",
    "        color_continuous_scale='Viridis',  # Granularity of 'Pts Won'\n",
    "        labels={\n",
    "            'PER': 'Player Efficiency Rating (PER)',\n",
    "            'WS': 'Win Shares',\n",
    "            'Pace': 'Team Pace',\n",
    "            'MOV': 'Margin of Victory (MOV)',\n",
    "            'Pts_Won': 'MVP Points Won'\n",
    "        },\n",
    "        title='Advanced Metrics: Player Contribution Highlighting MVP Points'\n",
    "    )\n",
    "    fig.show()\n",
    "\n",
    "# Example usage\n",
    "advanced_metrics_player_contribution_filtered(player_df, team_df, mvp_df)"
   ]
  },
  {
   "cell_type": "code",
   "execution_count": 19,
   "id": "863782d9-d22f-4a06-a2ac-cd11257ad688",
   "metadata": {},
   "outputs": [
    {
     "data": {
      "text/html": [
       "<iframe\n",
       "    scrolling=\"no\"\n",
       "    width=\"100%\"\n",
       "    height=\"545px\"\n",
       "    src=\"iframe_figures/figure_19.html\"\n",
       "    frameborder=\"0\"\n",
       "    allowfullscreen\n",
       "></iframe>\n"
      ]
     },
     "metadata": {},
     "output_type": "display_data"
    }
   ],
   "source": [
    "def advanced_metrics_scatter_matrix(player_df, team_df, mvp_list, include_non_mvp=False):\n",
    "    # Merge player and team data\n",
    "    merged_df = pd.merge(player_df, team_df, on=['TEAM_ID', 'SEASON_ID'], suffixes=('_player', '_team'))\n",
    "    \n",
    "    # Add a column to differentiate MVP candidates and the actual MVP\n",
    "    actual_mvp = mvp_list[0]\n",
    "    merged_df['MVP_Candidate'] = merged_df['PLAYER_FULLNAME'].apply(\n",
    "        lambda x: 'MVP' if x == actual_mvp else ('MVP Candidate' if x in mvp_list else 'Other')\n",
    "    )\n",
    "\n",
    "    # Optionally filter out non-MVP candidates\n",
    "    if not include_non_mvp:\n",
    "        merged_df = merged_df[merged_df['MVP_Candidate'] != 'Other']\n",
    "    \n",
    "    # Scatter matrix\n",
    "    fig = px.scatter_matrix(\n",
    "        merged_df,\n",
    "        dimensions=['PER', 'WS', 'Pace', 'MOV'],  # Metrics to include\n",
    "        color='MVP_Candidate',\n",
    "        title='Scatter Matrix: Advanced Metrics and MVP Highlights',\n",
    "        labels={\n",
    "            'PER': 'Player Efficiency Rating (PER)',\n",
    "            'WS': 'Win Shares',\n",
    "            'Pace': 'Team Pace',\n",
    "            'MOV': 'Margin of Victory (MOV)'\n",
    "        }\n",
    "    )\n",
    "    fig.update_traces(diagonal_visible=False)  # Hide diagonal density plots\n",
    "    fig.show()\n",
    "\n",
    "advanced_metrics_scatter_matrix(player_df, team_df, mvp_list=list(mvp_df['Player']))"
   ]
  },
  {
   "cell_type": "code",
   "execution_count": 14,
   "id": "850b70d8-97c7-4287-9d1a-df6e7f32d231",
   "metadata": {},
   "outputs": [
    {
     "data": {
      "text/html": [
       "<iframe\n",
       "    scrolling=\"no\"\n",
       "    width=\"100%\"\n",
       "    height=\"545px\"\n",
       "    src=\"iframe_figures/figure_14.html\"\n",
       "    frameborder=\"0\"\n",
       "    allowfullscreen\n",
       "></iframe>\n"
      ]
     },
     "metadata": {},
     "output_type": "display_data"
    }
   ],
   "source": [
    "def voting_share_vs_points(df):\n",
    "    fig = px.scatter(\n",
    "        df, x='Share', y='PTS',\n",
    "        size='WS', color='Tm',\n",
    "        hover_name='Player',\n",
    "        title='MVP Voting Share vs. Points Per Game',\n",
    "        labels={'Share': 'MVP Voting Share', 'PTS': 'Points Per Game', 'WS': 'Win Shares'}\n",
    "    )\n",
    "    fig.show()\n",
    "\n",
    "# Example usage\n",
    "voting_share_vs_points(mvp_df)"
   ]
  },
  {
   "cell_type": "code",
   "execution_count": null,
   "id": "61ae0870-f5fb-4e5f-ad3a-45e0ff83b1ea",
   "metadata": {},
   "outputs": [],
   "source": [
    "def voting_share_distribution(df):\n",
    "    team_shares = df.groupby('Tm')['Share'].sum().reset_index()\n",
    "    \n",
    "    fig = px.bar(\n",
    "        team_shares, x='Tm', y='Share',\n",
    "        title='Distribution of MVP Votes Among Teams',\n",
    "        labels={'Tm': 'Team', 'Share': 'Total MVP Voting Share'},\n",
    "        text='Share'\n",
    "    )\n",
    "    fig.update_traces(texttemplate='%{text:.2%}', textposition='outside')\n",
    "    fig.show()\n",
    "\n",
    "# Example usage\n",
    "voting_share_distribution(mvp_df)"
   ]
  },
  {
   "cell_type": "code",
   "execution_count": null,
   "id": "f7f78cda-0027-4e81-a5f4-13d9ffc1eeda",
   "metadata": {},
   "outputs": [],
   "source": [
    "def voting_share_vs_ws_per_48(df):\n",
    "    fig = px.scatter(\n",
    "        df, x='Share', y='WS/48',\n",
    "        size='PTS', color='Tm',\n",
    "        hover_name='Player',\n",
    "        title='MVP Voting Share vs. WS/48',\n",
    "        labels={'Share': 'MVP Voting Share', 'WS/48': 'Win Shares Per 48 Minutes', 'PTS': 'Points Per Game'}\n",
    "    )\n",
    "    fig.show()\n",
    "\n",
    "# Example usage\n",
    "voting_share_vs_ws_per_48(mvp_df)"
   ]
  },
  {
   "cell_type": "code",
   "execution_count": null,
   "id": "137e5de1-46db-45c7-b965-25190687354f",
   "metadata": {},
   "outputs": [],
   "source": [
    "def player_performance_parallel(df):\n",
    "    fig = px.parallel_coordinates(\n",
    "        df,\n",
    "        dimensions=['PTS', 'TRB', 'AST', 'WS', 'WS/48'],\n",
    "        color='Share',\n",
    "        title='Player Performance Metrics of MVP Candidates',\n",
    "        labels={'PTS': 'Points Per Game', 'TRB': 'Rebounds Per Game', 'AST': 'Assists Per Game',\n",
    "                'WS': 'Win Shares', 'WS/48': 'Win Shares Per 48 Minutes', 'Share': 'MVP Voting Share'}\n",
    "    )\n",
    "    fig.show()\n",
    "\n",
    "# Example usage\n",
    "player_performance_parallel(mvp_df)"
   ]
  },
  {
   "cell_type": "code",
   "execution_count": null,
   "id": "06e9937d-7ffd-4656-8849-7d627b83dd37",
   "metadata": {},
   "outputs": [],
   "source": [
    "def age_vs_voting_share(df):\n",
    "    fig = px.scatter(\n",
    "        df, x='Age', y='Share',\n",
    "        size='PTS', color='Tm',\n",
    "        hover_name='Player',\n",
    "        title='Age vs. MVP Voting Share',\n",
    "        labels={'Age': 'Player Age', 'Share': 'MVP Voting Share', 'PTS': 'Points Per Game'}\n",
    "    )\n",
    "    fig.show()\n",
    "\n",
    "# Example usage\n",
    "age_vs_voting_share(mvp_df)"
   ]
  },
  {
   "cell_type": "code",
   "execution_count": null,
   "id": "5f2f364f-078f-44f1-bd74-900e5b583094",
   "metadata": {},
   "outputs": [],
   "source": [
    "def team_representation(df):\n",
    "    team_counts = df['Tm'].value_counts().reset_index()\n",
    "    team_counts.columns = ['Team', 'Count']\n",
    "    \n",
    "    fig = px.bar(\n",
    "        team_counts, x='Team', y='Count',\n",
    "        title='Team Representation in MVP Voting',\n",
    "        labels={'Team': 'Team', 'Count': 'Number of MVP Candidates'},\n",
    "        text='Count'\n",
    "    )\n",
    "    fig.update_traces(textposition='outside')\n",
    "    fig.show()\n",
    "\n",
    "# Example usage\n",
    "team_representation(mvp_df)"
   ]
  },
  {
   "cell_type": "code",
   "execution_count": null,
   "id": "785fdda8-7386-417c-98dd-26bb6122b71a",
   "metadata": {},
   "outputs": [],
   "source": [
    "list(mvp_df['Player'])"
   ]
  },
  {
   "cell_type": "code",
   "execution_count": null,
   "id": "79c30f7a-0607-477d-bf28-476d61181b16",
   "metadata": {},
   "outputs": [],
   "source": []
  },
  {
   "cell_type": "code",
   "execution_count": null,
   "id": "bc5e8156-962a-4e5e-b760-b368d1d9e19c",
   "metadata": {},
   "outputs": [],
   "source": []
  },
  {
   "cell_type": "code",
   "execution_count": null,
   "id": "fb204e25-2735-4381-82eb-7d66e3e4b284",
   "metadata": {},
   "outputs": [],
   "source": []
  },
  {
   "cell_type": "code",
   "execution_count": null,
   "id": "a624ed04-2bfb-47b6-87f4-76ec9d617475",
   "metadata": {},
   "outputs": [],
   "source": []
  }
 ],
 "metadata": {
  "kernelspec": {
   "display_name": "Python 3 (ipykernel)",
   "language": "python",
   "name": "python3"
  },
  "language_info": {
   "codemirror_mode": {
    "name": "ipython",
    "version": 3
   },
   "file_extension": ".py",
   "mimetype": "text/x-python",
   "name": "python",
   "nbconvert_exporter": "python",
   "pygments_lexer": "ipython3",
   "version": "3.12.7"
  }
 },
 "nbformat": 4,
 "nbformat_minor": 5
}
