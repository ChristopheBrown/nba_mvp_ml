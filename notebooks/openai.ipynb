{
 "cells": [
  {
   "cell_type": "code",
   "execution_count": 1,
   "id": "54eea001-d24a-437c-8fed-8b8137bba9ca",
   "metadata": {},
   "outputs": [],
   "source": [
    "import os\n",
    "from openai import OpenAI"
   ]
  },
  {
   "cell_type": "code",
   "execution_count": 13,
   "id": "2dcec016-1815-40d6-a5f3-2ead10899a79",
   "metadata": {},
   "outputs": [
    {
     "name": "stdout",
     "output_type": "stream",
     "text": [
      "You are an expert NBA historian. You are knowledgeable on all NBA players and outstanding performances dating back to the 1980 season. You are also an expert analyst on the NBA MVP race for each year from 1980 to today.\n"
     ]
    }
   ],
   "source": [
    "import json\n",
    "\n",
    "# Path to the JSON file\n",
    "prompts_path = '/Users/cb/src/nba_mvp_ml/json/mvp-qualitative.json'\n",
    "\n",
    "# Read the JSON file into a dictionary\n",
    "with open(prompts_path, 'r', encoding='utf-8') as file:\n",
    "    gpt_prompts = json.load(file)\n",
    "\n",
    "\n",
    "role_path = '/Users/cb/src/nba_mvp_ml/json/mvp-role.json'\n",
    "with open(role_path, 'r', encoding='utf-8') as file:\n",
    "    gpt_role = json.load(file)\n",
    "\n",
    "print(gpt_role['role'])  # Optional: Print to verify the contents"
   ]
  },
  {
   "cell_type": "code",
   "execution_count": 14,
   "id": "dacbc4b9-c527-4b4b-81a3-a3dcdfeb2db0",
   "metadata": {},
   "outputs": [],
   "source": [
    "api_key = None\n",
    "\n",
    "with open(\"/Users/cb/src/gpt-4o-api-key-expires-02-25.txt\", \"r\") as file:\n",
    "    api_key = file.read().strip()\n",
    "\n",
    "token = api_key\n",
    "endpoint = \"https://models.inference.ai.azure.com\"\n",
    "model_name = \"gpt-4o\"\n",
    "\n",
    "client = OpenAI(\n",
    "    base_url=endpoint,\n",
    "    api_key=token,\n",
    ")"
   ]
  },
  {
   "cell_type": "code",
   "execution_count": 25,
   "id": "b90a36d0-6413-4ae1-89c5-be7255d8aa54",
   "metadata": {},
   "outputs": [
    {
     "data": {
      "text/plain": [
       "'Recall the NBA 2022-23 NBA season. On a scale of 0 to 10, rate the impact of compelling narratives or storylines surrounding the player. Include examples of personal achievements, overcoming adversity, or any unique season-defining moments.. Always begin your answer with your rating. Format it like so: [[<RATING> / 10]]'"
      ]
     },
     "execution_count": 25,
     "metadata": {},
     "output_type": "execute_result"
    }
   ],
   "source": [
    "year = 2022\n",
    "criteria = gpt_prompts['3']['prompt']\n",
    "role = gpt_role['role']\n",
    "\n",
    "prompt = f'Recall the NBA {year}-{str(year+1)[2:]} NBA season. {criteria}. Always begin your answer with your rating. Format it like so: [[<RATING> / 10]]'\n",
    "\n",
    "prompt"
   ]
  },
  {
   "cell_type": "code",
   "execution_count": 26,
   "id": "73444dd9-6f42-4e4f-a8e3-19360ab4d062",
   "metadata": {},
   "outputs": [
    {
     "name": "stdout",
     "output_type": "stream",
     "text": [
      "[[8 / 10]] The 2022-23 NBA season featured several compelling narratives, particularly focusing on key players like Nikola Jokić and Joel Embiid. Embiid won his first MVP award after finishing as the runner-up for the previous two seasons, which was a significant personal achievement. His dominance on the court, particularly in scoring and defense, was a major storyline throughout the season.\n",
      "\n",
      "Nikola Jokić was another focal point as he aimed for his third consecutive MVP, which had only been accomplished by a select few in NBA history. His unique playmaking abilities as a center continued to redefine the position and kept fans engaged.\n",
      "\n",
      "Additionally, the storyline of LeBron James breaking the all-time scoring record was an overarching narrative. His pursuit and eventual surpassing of Kareem Abdul-Jabbar's record was a historic moment that captivated the basketball world.\n",
      "\n",
      "Injuries and returns were also significant storylines, with players like Zion Williamson making a comeback and showing glimpses of his potential before injuries derailed his season again. Ja Morant's off-court issues and his subsequent return added drama to the narrative of his ascendant career.\n",
      "\n",
      "Overall, the NBA 2022-23 season was rich with personal achievements, historic milestones, and compelling stories of adversity and triumph, making it a particularly engaging season for narratives.\n"
     ]
    }
   ],
   "source": [
    "response = client.chat.completions.create(\n",
    "    messages=[\n",
    "        {\n",
    "            \"role\": \"system\",\n",
    "            \"content\": role,\n",
    "        },\n",
    "        {\n",
    "            \"role\": \"user\",\n",
    "            \"content\": prompt,\n",
    "        }\n",
    "    ],\n",
    "    temperature=1.0,\n",
    "    top_p=1.0,\n",
    "    max_tokens=1000,\n",
    "    model=model_name\n",
    ")\n",
    "\n",
    "print(response.choices[0].message.content)"
   ]
  },
  {
   "cell_type": "code",
   "execution_count": 32,
   "id": "1c04c7df-26ff-4693-bd35-3a42c9a229a4",
   "metadata": {},
   "outputs": [],
   "source": [
    "import openai\n",
    "\n",
    "\n",
    "api_key_path = '/Users/cb/src/nba_mvp_ml-key-paid.txt'\n",
    "try:\n",
    "    # Read the API key from the file\n",
    "    with open(api_key_path, \"r\") as file:\n",
    "        api_key = file.read().strip()\n",
    "\n",
    "        client = OpenAI(\n",
    "        api_key=api_key\n",
    "    )\n",
    "    \n",
    "    chat_completion = client.chat.completions.create(\n",
    "        messages=[\n",
    "            {\n",
    "                \"role\": \"user\",\n",
    "                \"content\": \"Say this is a test\",\n",
    "            }\n",
    "        ],\n",
    "        model=\"gpt-4o\",\n",
    "    )\n",
    "\n",
    "except FileNotFoundError as e:\n",
    "        raise FileNotFoundError(f\"API key file not found: {e.filename}\")\n",
    "except Exception as e:\n",
    "        raise RuntimeError(f\"Failed to set up OpenAI client: {str(e)}\")\n",
    "            \n"
   ]
  },
  {
   "cell_type": "code",
   "execution_count": 33,
   "id": "cc4e435e-3f3d-4684-bb25-6775f83b9744",
   "metadata": {},
   "outputs": [
    {
     "data": {
      "text/plain": [
       "'This is a test.'"
      ]
     },
     "execution_count": 33,
     "metadata": {},
     "output_type": "execute_result"
    }
   ],
   "source": [
    "chat_completion.choices[0].message.content"
   ]
  },
  {
   "cell_type": "code",
   "execution_count": null,
   "id": "c4a4a268-ba73-496a-9a50-05f2ff5af47b",
   "metadata": {},
   "outputs": [],
   "source": []
  }
 ],
 "metadata": {
  "kernelspec": {
   "display_name": "Python 3 (ipykernel)",
   "language": "python",
   "name": "python3"
  },
  "language_info": {
   "codemirror_mode": {
    "name": "ipython",
    "version": 3
   },
   "file_extension": ".py",
   "mimetype": "text/x-python",
   "name": "python",
   "nbconvert_exporter": "python",
   "pygments_lexer": "ipython3",
   "version": "3.12.7"
  }
 },
 "nbformat": 4,
 "nbformat_minor": 5
}
